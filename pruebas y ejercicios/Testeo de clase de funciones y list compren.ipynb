{
 "cells": [
  {
   "cell_type": "code",
   "execution_count": 16,
   "id": "74a34f4d",
   "metadata": {},
   "outputs": [],
   "source": [
    "palabras = ['data', 'science', 'machine', 'learning', 'math', 'python', 'code']"
   ]
  },
  {
   "cell_type": "code",
   "execution_count": 14,
   "id": "a441ee59",
   "metadata": {},
   "outputs": [
    {
     "name": "stdout",
     "output_type": "stream",
     "text": [
      "['sciAncA', 'machinA', 'lAarning', 'python']\n",
      "CPU times: total: 0 ns\n",
      "Wall time: 0 ns\n"
     ]
    }
   ],
   "source": [
    "%%time\n",
    "new_word= []\n",
    "for word in palabras:\n",
    "    if len(word) > 4:\n",
    "        new_word.append(word.replace(\"e\",\"A\"))\n",
    "                \n",
    "print (new_word)"
   ]
  },
  {
   "cell_type": "code",
   "execution_count": 15,
   "id": "c35d967e",
   "metadata": {},
   "outputs": [
    {
     "name": "stdout",
     "output_type": "stream",
     "text": [
      "CPU times: total: 0 ns\n",
      "Wall time: 0 ns\n"
     ]
    },
    {
     "data": {
      "text/plain": [
       "['sciAncA', 'machinA', 'lAarning', 'python']"
      ]
     },
     "execution_count": 15,
     "metadata": {},
     "output_type": "execute_result"
    }
   ],
   "source": [
    "%%time\n",
    "new_word2 =[word.replace(\"e\",\"A\") for word in palabras if len(word) > 4]\n",
    "new_word2"
   ]
  },
  {
   "cell_type": "code",
   "execution_count": 22,
   "id": "bcccaafd",
   "metadata": {},
   "outputs": [
    {
     "name": "stdout",
     "output_type": "stream",
     "text": [
      "['par', 'impar', 'par', 'impar', 'impar', 'par', 'impar', 'par', 'impar', 'impar', 'impar', 'par', 'par', 'impar', 'impar', 'par', 'impar', 'impar', 'impar', 'par', 'impar', 'impar', 'par', 'par', 'par', 'par', 'par', 'impar', 'impar', 'impar', 'par', 'impar', 'impar', 'impar', 'impar', 'impar', 'impar', 'impar', 'impar', 'par', 'impar', 'par', 'impar', 'impar', 'par', 'par', 'impar', 'impar', 'impar', 'impar', 'par', 'impar', 'impar', 'impar', 'par', 'par', 'impar', 'par', 'impar', 'par', 'par', 'par', 'par', 'impar', 'par', 'impar', 'par', 'par', 'par', 'par', 'par', 'impar', 'impar', 'impar', 'impar', 'par', 'par', 'impar', 'par', 'impar', 'impar', 'par', 'impar', 'impar', 'par', 'impar', 'par', 'impar', 'par', 'par', 'par', 'impar', 'par', 'impar', 'impar', 'par', 'impar', 'par', 'par', 'par']\n"
     ]
    }
   ],
   "source": [
    "import random\n",
    "numeros = random.sample(range(1,2000),100)\n",
    "espar= []\n",
    "for numb in numeros:\n",
    "    if numb % 2 == 0:\n",
    "        espar.append(\"par\")\n",
    "    else:\n",
    "        espar.append(\"impar\")\n",
    "        \n",
    "print (espar)\n",
    "        "
   ]
  },
  {
   "cell_type": "code",
   "execution_count": 21,
   "id": "7a669a6c",
   "metadata": {},
   "outputs": [
    {
     "name": "stdout",
     "output_type": "stream",
     "text": [
      "['par', 'par', 'par', 'par', 'impar', 'par', 'impar', 'impar', 'par', 'impar', 'par', 'impar', 'par', 'impar', 'par', 'par', 'par', 'par', 'par', 'par', 'par', 'par', 'impar', 'impar', 'impar', 'impar', 'par', 'impar', 'par', 'par', 'par', 'impar', 'par', 'impar', 'impar', 'impar', 'par', 'impar', 'impar', 'impar', 'impar', 'impar', 'impar', 'par', 'impar', 'impar', 'par', 'impar', 'par', 'par', 'par', 'impar', 'par', 'par', 'par', 'par', 'impar', 'impar', 'par', 'impar', 'par', 'par', 'par', 'par', 'impar', 'impar', 'par', 'impar', 'impar', 'par', 'impar', 'impar', 'impar', 'impar', 'impar', 'impar', 'impar', 'impar', 'impar', 'impar', 'impar', 'impar', 'par', 'par', 'par', 'par', 'par', 'impar', 'impar', 'par', 'par', 'impar', 'par', 'impar', 'impar', 'impar', 'par', 'impar', 'par', 'impar']\n"
     ]
    }
   ],
   "source": [
    "espar2 = [\"par\" if numb % 2 == 0 else \"impar\" for numb in numeros]\n",
    "print(espar2)"
   ]
  },
  {
   "cell_type": "code",
   "execution_count": 23,
   "id": "466c2d88",
   "metadata": {},
   "outputs": [],
   "source": [
    "nombres = ['Alicia', 'Fernando', 'Miguel']\n",
    "apellidos = ['Rodriguez', 'Seguias', 'Tuda']"
   ]
  },
  {
   "cell_type": "code",
   "execution_count": 32,
   "id": "210f6890",
   "metadata": {},
   "outputs": [
    {
     "name": "stdout",
     "output_type": "stream",
     "text": [
      "CPU times: total: 0 ns\n",
      "Wall time: 0 ns\n"
     ]
    },
    {
     "data": {
      "text/plain": [
       "{'Alicia': 'Rodriguez', 'Fernando': 'Seguias', 'Miguel': 'Tuda'}"
      ]
     },
     "execution_count": 32,
     "metadata": {},
     "output_type": "execute_result"
    }
   ],
   "source": [
    "%time\n",
    "nombres_apellidos = dict(zip(nombres,apellidos))\n",
    "nombres_apellidos"
   ]
  },
  {
   "cell_type": "code",
   "execution_count": 33,
   "id": "484ce071",
   "metadata": {},
   "outputs": [
    {
     "name": "stdout",
     "output_type": "stream",
     "text": [
      "CPU times: total: 0 ns\n",
      "Wall time: 0 ns\n"
     ]
    },
    {
     "data": {
      "text/plain": [
       "{'Alicia': 'Rodriguez', 'Fernando': 'Seguias', 'Miguel': 'Tuda'}"
      ]
     },
     "execution_count": 33,
     "metadata": {},
     "output_type": "execute_result"
    }
   ],
   "source": [
    "%time\n",
    "nombres_apellidos2 = {nomb:apell for nomb,apell in zip(nombres, apellidos)}\n",
    "nombres_apellidos2"
   ]
  },
  {
   "cell_type": "code",
   "execution_count": 34,
   "id": "d512f4bf",
   "metadata": {},
   "outputs": [],
   "source": [
    "edad = 28\n",
    "def envejecer():\n",
    "    return edad+1"
   ]
  },
  {
   "cell_type": "code",
   "execution_count": 35,
   "id": "9426fb4a",
   "metadata": {},
   "outputs": [
    {
     "data": {
      "text/plain": [
       "28"
      ]
     },
     "execution_count": 35,
     "metadata": {},
     "output_type": "execute_result"
    }
   ],
   "source": [
    "edad"
   ]
  },
  {
   "cell_type": "code",
   "execution_count": 36,
   "id": "34b84e2d",
   "metadata": {},
   "outputs": [
    {
     "data": {
      "text/plain": [
       "29"
      ]
     },
     "execution_count": 36,
     "metadata": {},
     "output_type": "execute_result"
    }
   ],
   "source": [
    "envejecer()"
   ]
  },
  {
   "cell_type": "code",
   "execution_count": 61,
   "id": "75c14900",
   "metadata": {},
   "outputs": [
    {
     "name": "stdout",
     "output_type": "stream",
     "text": [
      "2\n"
     ]
    }
   ],
   "source": [
    "RECETA = {'flour': 500, 'sugar': 200, 'eggs': 1}\n",
    "INGREDIENTES = {'flour': 1200, 'sugar': 1200, 'eggs': 5, 'milk': 200}\n",
    "\n",
    "max_posible = 1000\n",
    "for necesitas in RECETA:\n",
    "   if int(INGREDIENTES[necesitas] / RECETA[necesitas]) < max_posible:\n",
    "    max_posible = int(INGREDIENTES[necesitas] / RECETA[necesitas])\n",
    "print(max_posible)"
   ]
  },
  {
   "cell_type": "code",
   "execution_count": 69,
   "id": "33298ad4",
   "metadata": {},
   "outputs": [],
   "source": [
    "def calcula_tartas(recipe, disponible):\n",
    "    \"\"\"\n",
    "    Esta función te calcula cuántas veces puedes hacer una receta, con los ingredientes que tienes.\n",
    "    Parámetros:\n",
    "        recipe (dic)  ingredientes como key y las cantidades necesarias como value.\n",
    "        disponible (dic)  ingredientes disponibles como key y las cantidades \n",
    "        necesarias como value.\n",
    "    Return:\n",
    "        (Int) las veces que puedes hacer la receta con los ingredientes que tienes.\n",
    "    \"\"\"\n",
    "    max_posible = 1000\n",
    "    for necesitas in recipe:\n",
    "        if necesitas in disponible:\n",
    "            if disponible[necesitas] // recipe[necesitas] < max_posible:\n",
    "                max_posible = disponible[necesitas] // recipe[necesitas]\n",
    "        else:\n",
    "            return \"Te faltan ingredientes\"\n",
    "    return max_posible"
   ]
  },
  {
   "cell_type": "code",
   "execution_count": 70,
   "id": "6928a6f1",
   "metadata": {},
   "outputs": [
    {
     "data": {
      "text/plain": [
       "2"
      ]
     },
     "execution_count": 70,
     "metadata": {},
     "output_type": "execute_result"
    }
   ],
   "source": [
    "calcula_tartas(RECETA,INGREDIENTES)"
   ]
  },
  {
   "cell_type": "code",
   "execution_count": null,
   "id": "770061ad",
   "metadata": {},
   "outputs": [],
   "source": []
  }
 ],
 "metadata": {
  "kernelspec": {
   "display_name": "ironhack",
   "language": "python",
   "name": "ironhack"
  },
  "language_info": {
   "codemirror_mode": {
    "name": "ipython",
    "version": 3
   },
   "file_extension": ".py",
   "mimetype": "text/x-python",
   "name": "python",
   "nbconvert_exporter": "python",
   "pygments_lexer": "ipython3",
   "version": "3.9.13"
  }
 },
 "nbformat": 4,
 "nbformat_minor": 5
}
