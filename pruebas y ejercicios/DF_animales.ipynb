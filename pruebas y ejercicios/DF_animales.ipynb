{
 "cells": [
  {
   "cell_type": "code",
   "execution_count": 2,
   "id": "3a76dcff",
   "metadata": {},
   "outputs": [],
   "source": [
    "import pandas as pd \n",
    "import numpy as np\n",
    "from datetime import datetime\n",
    "import matplotlib.pyplot as plt\n",
    "import seaborn as sns\n",
    "import plotly.express as px\n",
    "df = pd.read_csv(\"datos/dataset_animal.csv\")"
   ]
  },
  {
   "cell_type": "markdown",
   "id": "ea7d6b38",
   "metadata": {},
   "source": [
    "Aviso de antemano que este es mi segundo DF, el primero tuve problemas para abrirlo y estuve haciendo cosas en este mientras Ana me ayudaba abrirlo, y al final me dijo que usase este DF, lo que ocurre con este DF es que los datos seguramente no sean reales, es decir, es un DF creado por alguien, por lo que los datos son poco realistas o incluso bastante uniformes 😢😢🥀"
   ]
  },
  {
   "cell_type": "markdown",
   "id": "bfd1270b",
   "metadata": {},
   "source": [
    "# Análisis exploratorio"
   ]
  },
  {
   "cell_type": "code",
   "execution_count": 2,
   "id": "c16b34eb",
   "metadata": {
    "scrolled": true
   },
   "outputs": [
    {
     "data": {
      "text/html": [
       "<div>\n",
       "<style scoped>\n",
       "    .dataframe tbody tr th:only-of-type {\n",
       "        vertical-align: middle;\n",
       "    }\n",
       "\n",
       "    .dataframe tbody tr th {\n",
       "        vertical-align: top;\n",
       "    }\n",
       "\n",
       "    .dataframe thead th {\n",
       "        text-align: right;\n",
       "    }\n",
       "</style>\n",
       "<table border=\"1\" class=\"dataframe\">\n",
       "  <thead>\n",
       "    <tr style=\"text-align: right;\">\n",
       "      <th></th>\n",
       "      <th>country</th>\n",
       "      <th>city</th>\n",
       "      <th>gender</th>\n",
       "      <th>ethnicity</th>\n",
       "      <th>animal_type</th>\n",
       "      <th>animals</th>\n",
       "      <th>humans</th>\n",
       "      <th>is_required</th>\n",
       "      <th>last_updated_date</th>\n",
       "    </tr>\n",
       "  </thead>\n",
       "  <tbody>\n",
       "    <tr>\n",
       "      <th>0</th>\n",
       "      <td>China</td>\n",
       "      <td>Nuoxizhi</td>\n",
       "      <td>Male</td>\n",
       "      <td>Tongan</td>\n",
       "      <td>elephant</td>\n",
       "      <td>1733</td>\n",
       "      <td>9988566</td>\n",
       "      <td>0</td>\n",
       "      <td>19-01-16</td>\n",
       "    </tr>\n",
       "    <tr>\n",
       "      <th>1</th>\n",
       "      <td>China</td>\n",
       "      <td>Tanbuqiao</td>\n",
       "      <td>Female</td>\n",
       "      <td>White</td>\n",
       "      <td>dog</td>\n",
       "      <td>403</td>\n",
       "      <td>4367849</td>\n",
       "      <td>0</td>\n",
       "      <td>29-03-16</td>\n",
       "    </tr>\n",
       "    <tr>\n",
       "      <th>2</th>\n",
       "      <td>United States</td>\n",
       "      <td>El Paso</td>\n",
       "      <td>Male</td>\n",
       "      <td>Cuban</td>\n",
       "      <td>dog</td>\n",
       "      <td>6193</td>\n",
       "      <td>2939235</td>\n",
       "      <td>0</td>\n",
       "      <td>20-03-16</td>\n",
       "    </tr>\n",
       "    <tr>\n",
       "      <th>3</th>\n",
       "      <td>China</td>\n",
       "      <td>Zhongxin</td>\n",
       "      <td>Male</td>\n",
       "      <td>Spaniard</td>\n",
       "      <td>rabbit</td>\n",
       "      <td>9041</td>\n",
       "      <td>4852207</td>\n",
       "      <td>0</td>\n",
       "      <td>10-06-16</td>\n",
       "    </tr>\n",
       "    <tr>\n",
       "      <th>4</th>\n",
       "      <td>China</td>\n",
       "      <td>Bijia</td>\n",
       "      <td>Female</td>\n",
       "      <td>Colombian</td>\n",
       "      <td>cat</td>\n",
       "      <td>7505</td>\n",
       "      <td>6728496</td>\n",
       "      <td>0</td>\n",
       "      <td>17-01-16</td>\n",
       "    </tr>\n",
       "  </tbody>\n",
       "</table>\n",
       "</div>"
      ],
      "text/plain": [
       "         country       city  gender  ethnicity animal_type  animals   humans  \\\n",
       "0          China   Nuoxizhi    Male     Tongan    elephant     1733  9988566   \n",
       "1          China  Tanbuqiao  Female      White         dog      403  4367849   \n",
       "2  United States    El Paso    Male      Cuban         dog     6193  2939235   \n",
       "3          China   Zhongxin    Male   Spaniard      rabbit     9041  4852207   \n",
       "4          China      Bijia  Female  Colombian         cat     7505  6728496   \n",
       "\n",
       "   is_required last_updated_date  \n",
       "0            0          19-01-16  \n",
       "1            0          29-03-16  \n",
       "2            0          20-03-16  \n",
       "3            0          10-06-16  \n",
       "4            0          17-01-16  "
      ]
     },
     "execution_count": 2,
     "metadata": {},
     "output_type": "execute_result"
    }
   ],
   "source": [
    "#Echamos un primer vistazo\n",
    "df.head()"
   ]
  },
  {
   "cell_type": "code",
   "execution_count": 3,
   "id": "440ac3e1",
   "metadata": {},
   "outputs": [
    {
     "data": {
      "text/plain": [
       "(100000, 9)"
      ]
     },
     "execution_count": 3,
     "metadata": {},
     "output_type": "execute_result"
    }
   ],
   "source": [
    "#Miramos las columnas y filas que contiene\n",
    "df.shape"
   ]
  },
  {
   "cell_type": "code",
   "execution_count": 4,
   "id": "a38e302e",
   "metadata": {},
   "outputs": [
    {
     "data": {
      "text/plain": [
       "Index(['country', 'city', 'gender', 'ethnicity', 'animal_type', 'animals',\n",
       "       'humans', 'is_required', 'last_updated_date'],\n",
       "      dtype='object')"
      ]
     },
     "execution_count": 4,
     "metadata": {},
     "output_type": "execute_result"
    }
   ],
   "source": [
    "#Los nombres de las columnas\n",
    "df.columns"
   ]
  },
  {
   "cell_type": "code",
   "execution_count": 5,
   "id": "d97e7d8a",
   "metadata": {},
   "outputs": [
    {
     "data": {
      "text/plain": [
       "country              object\n",
       "city                 object\n",
       "gender               object\n",
       "ethnicity            object\n",
       "animal_type          object\n",
       "animals               int64\n",
       "humans                int64\n",
       "is_required           int64\n",
       "last_updated_date    object\n",
       "dtype: object"
      ]
     },
     "execution_count": 5,
     "metadata": {},
     "output_type": "execute_result"
    }
   ],
   "source": [
    "#Los Dtypes de cada columna\n",
    "df.dtypes"
   ]
  },
  {
   "cell_type": "code",
   "execution_count": 6,
   "id": "7d462eab",
   "metadata": {},
   "outputs": [
    {
     "name": "stdout",
     "output_type": "stream",
     "text": [
      "<class 'pandas.core.frame.DataFrame'>\n",
      "RangeIndex: 100000 entries, 0 to 99999\n",
      "Data columns (total 9 columns):\n",
      " #   Column             Non-Null Count   Dtype \n",
      "---  ------             --------------   ----- \n",
      " 0   country            100000 non-null  object\n",
      " 1   city               100000 non-null  object\n",
      " 2   gender             100000 non-null  object\n",
      " 3   ethnicity          100000 non-null  object\n",
      " 4   animal_type        100000 non-null  object\n",
      " 5   animals            100000 non-null  int64 \n",
      " 6   humans             100000 non-null  int64 \n",
      " 7   is_required        100000 non-null  int64 \n",
      " 8   last_updated_date  100000 non-null  object\n",
      "dtypes: int64(3), object(6)\n",
      "memory usage: 6.9+ MB\n"
     ]
    }
   ],
   "source": [
    "#info en general\n",
    "df.info()"
   ]
  },
  {
   "cell_type": "code",
   "execution_count": 7,
   "id": "44846971",
   "metadata": {},
   "outputs": [
    {
     "data": {
      "text/html": [
       "<div>\n",
       "<style scoped>\n",
       "    .dataframe tbody tr th:only-of-type {\n",
       "        vertical-align: middle;\n",
       "    }\n",
       "\n",
       "    .dataframe tbody tr th {\n",
       "        vertical-align: top;\n",
       "    }\n",
       "\n",
       "    .dataframe thead th {\n",
       "        text-align: right;\n",
       "    }\n",
       "</style>\n",
       "<table border=\"1\" class=\"dataframe\">\n",
       "  <thead>\n",
       "    <tr style=\"text-align: right;\">\n",
       "      <th></th>\n",
       "      <th>count</th>\n",
       "      <th>mean</th>\n",
       "      <th>std</th>\n",
       "      <th>min</th>\n",
       "      <th>25%</th>\n",
       "      <th>50%</th>\n",
       "      <th>75%</th>\n",
       "      <th>max</th>\n",
       "    </tr>\n",
       "  </thead>\n",
       "  <tbody>\n",
       "    <tr>\n",
       "      <th>animals</th>\n",
       "      <td>100000.0</td>\n",
       "      <td>4.987106e+03</td>\n",
       "      <td>2.889530e+03</td>\n",
       "      <td>0.0</td>\n",
       "      <td>2479.00</td>\n",
       "      <td>4986.0</td>\n",
       "      <td>7495.00</td>\n",
       "      <td>10000.0</td>\n",
       "    </tr>\n",
       "    <tr>\n",
       "      <th>humans</th>\n",
       "      <td>100000.0</td>\n",
       "      <td>5.009794e+06</td>\n",
       "      <td>2.880856e+06</td>\n",
       "      <td>10045.0</td>\n",
       "      <td>2514633.25</td>\n",
       "      <td>5025751.5</td>\n",
       "      <td>7496690.25</td>\n",
       "      <td>9999705.0</td>\n",
       "    </tr>\n",
       "    <tr>\n",
       "      <th>is_required</th>\n",
       "      <td>100000.0</td>\n",
       "      <td>5.010500e-01</td>\n",
       "      <td>5.000014e-01</td>\n",
       "      <td>0.0</td>\n",
       "      <td>0.00</td>\n",
       "      <td>1.0</td>\n",
       "      <td>1.00</td>\n",
       "      <td>1.0</td>\n",
       "    </tr>\n",
       "  </tbody>\n",
       "</table>\n",
       "</div>"
      ],
      "text/plain": [
       "                count          mean           std      min         25%  \\\n",
       "animals      100000.0  4.987106e+03  2.889530e+03      0.0     2479.00   \n",
       "humans       100000.0  5.009794e+06  2.880856e+06  10045.0  2514633.25   \n",
       "is_required  100000.0  5.010500e-01  5.000014e-01      0.0        0.00   \n",
       "\n",
       "                   50%         75%        max  \n",
       "animals         4986.0     7495.00    10000.0  \n",
       "humans       5025751.5  7496690.25  9999705.0  \n",
       "is_required        1.0        1.00        1.0  "
      ]
     },
     "execution_count": 7,
     "metadata": {},
     "output_type": "execute_result"
    }
   ],
   "source": [
    "#info matemática de nuestras columnas numéricas\n",
    "df.describe().T"
   ]
  },
  {
   "cell_type": "code",
   "execution_count": 8,
   "id": "27b98961",
   "metadata": {
    "scrolled": true
   },
   "outputs": [
    {
     "data": {
      "text/html": [
       "<div>\n",
       "<style scoped>\n",
       "    .dataframe tbody tr th:only-of-type {\n",
       "        vertical-align: middle;\n",
       "    }\n",
       "\n",
       "    .dataframe tbody tr th {\n",
       "        vertical-align: top;\n",
       "    }\n",
       "\n",
       "    .dataframe thead th {\n",
       "        text-align: right;\n",
       "    }\n",
       "</style>\n",
       "<table border=\"1\" class=\"dataframe\">\n",
       "  <thead>\n",
       "    <tr style=\"text-align: right;\">\n",
       "      <th></th>\n",
       "      <th>count</th>\n",
       "      <th>unique</th>\n",
       "      <th>top</th>\n",
       "      <th>freq</th>\n",
       "    </tr>\n",
       "  </thead>\n",
       "  <tbody>\n",
       "    <tr>\n",
       "      <th>country</th>\n",
       "      <td>100000</td>\n",
       "      <td>5</td>\n",
       "      <td>China</td>\n",
       "      <td>71833</td>\n",
       "    </tr>\n",
       "    <tr>\n",
       "      <th>city</th>\n",
       "      <td>100000</td>\n",
       "      <td>8201</td>\n",
       "      <td>Washington</td>\n",
       "      <td>272</td>\n",
       "    </tr>\n",
       "    <tr>\n",
       "      <th>gender</th>\n",
       "      <td>100000</td>\n",
       "      <td>2</td>\n",
       "      <td>Male</td>\n",
       "      <td>50000</td>\n",
       "    </tr>\n",
       "    <tr>\n",
       "      <th>ethnicity</th>\n",
       "      <td>100000</td>\n",
       "      <td>93</td>\n",
       "      <td>Houma</td>\n",
       "      <td>1155</td>\n",
       "    </tr>\n",
       "    <tr>\n",
       "      <th>animal_type</th>\n",
       "      <td>100000</td>\n",
       "      <td>5</td>\n",
       "      <td>cat</td>\n",
       "      <td>20094</td>\n",
       "    </tr>\n",
       "    <tr>\n",
       "      <th>last_updated_date</th>\n",
       "      <td>100000</td>\n",
       "      <td>366</td>\n",
       "      <td>20-11-15</td>\n",
       "      <td>321</td>\n",
       "    </tr>\n",
       "  </tbody>\n",
       "</table>\n",
       "</div>"
      ],
      "text/plain": [
       "                    count unique         top   freq\n",
       "country            100000      5       China  71833\n",
       "city               100000   8201  Washington    272\n",
       "gender             100000      2        Male  50000\n",
       "ethnicity          100000     93       Houma   1155\n",
       "animal_type        100000      5         cat  20094\n",
       "last_updated_date  100000    366    20-11-15    321"
      ]
     },
     "execution_count": 8,
     "metadata": {},
     "output_type": "execute_result"
    }
   ],
   "source": [
    "##info matemática de nuestras columnas categóricas\n",
    "df.describe(include = \"object\").T"
   ]
  },
  {
   "cell_type": "code",
   "execution_count": 9,
   "id": "bad4c9c0",
   "metadata": {},
   "outputs": [
    {
     "data": {
      "text/plain": [
       "country              0\n",
       "city                 0\n",
       "gender               0\n",
       "ethnicity            0\n",
       "animal_type          0\n",
       "animals              0\n",
       "humans               0\n",
       "is_required          0\n",
       "last_updated_date    0\n",
       "dtype: int64"
      ]
     },
     "execution_count": 9,
     "metadata": {},
     "output_type": "execute_result"
    }
   ],
   "source": [
    "#Buscamos nan\n",
    "df.isna().sum()"
   ]
  },
  {
   "cell_type": "code",
   "execution_count": 10,
   "id": "da11bacf",
   "metadata": {},
   "outputs": [
    {
     "data": {
      "text/plain": [
       "0"
      ]
     },
     "execution_count": 10,
     "metadata": {},
     "output_type": "execute_result"
    }
   ],
   "source": [
    "# Y filas duplicadas?\n",
    "df.duplicated().sum()"
   ]
  },
  {
   "cell_type": "markdown",
   "id": "996b74ad",
   "metadata": {},
   "source": [
    "# Creamos un índice"
   ]
  },
  {
   "cell_type": "code",
   "execution_count": 11,
   "id": "629f15d6",
   "metadata": {},
   "outputs": [
    {
     "data": {
      "text/html": [
       "<div>\n",
       "<style scoped>\n",
       "    .dataframe tbody tr th:only-of-type {\n",
       "        vertical-align: middle;\n",
       "    }\n",
       "\n",
       "    .dataframe tbody tr th {\n",
       "        vertical-align: top;\n",
       "    }\n",
       "\n",
       "    .dataframe thead th {\n",
       "        text-align: right;\n",
       "    }\n",
       "</style>\n",
       "<table border=\"1\" class=\"dataframe\">\n",
       "  <thead>\n",
       "    <tr style=\"text-align: right;\">\n",
       "      <th></th>\n",
       "      <th>country</th>\n",
       "      <th>city</th>\n",
       "      <th>gender</th>\n",
       "      <th>ethnicity</th>\n",
       "      <th>animal_type</th>\n",
       "      <th>animals</th>\n",
       "      <th>humans</th>\n",
       "      <th>is_required</th>\n",
       "      <th>last_updated_date</th>\n",
       "      <th>id</th>\n",
       "    </tr>\n",
       "  </thead>\n",
       "  <tbody>\n",
       "    <tr>\n",
       "      <th>0</th>\n",
       "      <td>China</td>\n",
       "      <td>Nuoxizhi</td>\n",
       "      <td>Male</td>\n",
       "      <td>Tongan</td>\n",
       "      <td>elephant</td>\n",
       "      <td>1733</td>\n",
       "      <td>9988566</td>\n",
       "      <td>0</td>\n",
       "      <td>19-01-16</td>\n",
       "      <td>0</td>\n",
       "    </tr>\n",
       "    <tr>\n",
       "      <th>1</th>\n",
       "      <td>China</td>\n",
       "      <td>Tanbuqiao</td>\n",
       "      <td>Female</td>\n",
       "      <td>White</td>\n",
       "      <td>dog</td>\n",
       "      <td>403</td>\n",
       "      <td>4367849</td>\n",
       "      <td>0</td>\n",
       "      <td>29-03-16</td>\n",
       "      <td>1</td>\n",
       "    </tr>\n",
       "    <tr>\n",
       "      <th>2</th>\n",
       "      <td>United States</td>\n",
       "      <td>El Paso</td>\n",
       "      <td>Male</td>\n",
       "      <td>Cuban</td>\n",
       "      <td>dog</td>\n",
       "      <td>6193</td>\n",
       "      <td>2939235</td>\n",
       "      <td>0</td>\n",
       "      <td>20-03-16</td>\n",
       "      <td>2</td>\n",
       "    </tr>\n",
       "    <tr>\n",
       "      <th>3</th>\n",
       "      <td>China</td>\n",
       "      <td>Zhongxin</td>\n",
       "      <td>Male</td>\n",
       "      <td>Spaniard</td>\n",
       "      <td>rabbit</td>\n",
       "      <td>9041</td>\n",
       "      <td>4852207</td>\n",
       "      <td>0</td>\n",
       "      <td>10-06-16</td>\n",
       "      <td>3</td>\n",
       "    </tr>\n",
       "    <tr>\n",
       "      <th>4</th>\n",
       "      <td>China</td>\n",
       "      <td>Bijia</td>\n",
       "      <td>Female</td>\n",
       "      <td>Colombian</td>\n",
       "      <td>cat</td>\n",
       "      <td>7505</td>\n",
       "      <td>6728496</td>\n",
       "      <td>0</td>\n",
       "      <td>17-01-16</td>\n",
       "      <td>4</td>\n",
       "    </tr>\n",
       "  </tbody>\n",
       "</table>\n",
       "</div>"
      ],
      "text/plain": [
       "         country       city  gender  ethnicity animal_type  animals   humans  \\\n",
       "0          China   Nuoxizhi    Male     Tongan    elephant     1733  9988566   \n",
       "1          China  Tanbuqiao  Female      White         dog      403  4367849   \n",
       "2  United States    El Paso    Male      Cuban         dog     6193  2939235   \n",
       "3          China   Zhongxin    Male   Spaniard      rabbit     9041  4852207   \n",
       "4          China      Bijia  Female  Colombian         cat     7505  6728496   \n",
       "\n",
       "   is_required last_updated_date  id  \n",
       "0            0          19-01-16   0  \n",
       "1            0          29-03-16   1  \n",
       "2            0          20-03-16   2  \n",
       "3            0          10-06-16   3  \n",
       "4            0          17-01-16   4  "
      ]
     },
     "execution_count": 11,
     "metadata": {},
     "output_type": "execute_result"
    }
   ],
   "source": [
    "df[\"id\"] = range(df.shape[0])\n",
    "df.head()"
   ]
  },
  {
   "cell_type": "markdown",
   "id": "4abcaac0",
   "metadata": {},
   "source": [
    "# Creamos una nueva columna que dice si requieren de los humanos en vez del número necesario."
   ]
  },
  {
   "cell_type": "code",
   "execution_count": 12,
   "id": "34ca1623",
   "metadata": {},
   "outputs": [
    {
     "data": {
      "text/html": [
       "<div>\n",
       "<style scoped>\n",
       "    .dataframe tbody tr th:only-of-type {\n",
       "        vertical-align: middle;\n",
       "    }\n",
       "\n",
       "    .dataframe tbody tr th {\n",
       "        vertical-align: top;\n",
       "    }\n",
       "\n",
       "    .dataframe thead th {\n",
       "        text-align: right;\n",
       "    }\n",
       "</style>\n",
       "<table border=\"1\" class=\"dataframe\">\n",
       "  <thead>\n",
       "    <tr style=\"text-align: right;\">\n",
       "      <th></th>\n",
       "      <th>country</th>\n",
       "      <th>city</th>\n",
       "      <th>gender</th>\n",
       "      <th>ethnicity</th>\n",
       "      <th>animal_type</th>\n",
       "      <th>animals</th>\n",
       "      <th>humans</th>\n",
       "      <th>is_required</th>\n",
       "      <th>last_updated_date</th>\n",
       "      <th>id</th>\n",
       "      <th>need_human</th>\n",
       "    </tr>\n",
       "  </thead>\n",
       "  <tbody>\n",
       "    <tr>\n",
       "      <th>0</th>\n",
       "      <td>China</td>\n",
       "      <td>Nuoxizhi</td>\n",
       "      <td>Male</td>\n",
       "      <td>Tongan</td>\n",
       "      <td>elephant</td>\n",
       "      <td>1733</td>\n",
       "      <td>9988566</td>\n",
       "      <td>0</td>\n",
       "      <td>19-01-16</td>\n",
       "      <td>0</td>\n",
       "      <td>No</td>\n",
       "    </tr>\n",
       "    <tr>\n",
       "      <th>1</th>\n",
       "      <td>China</td>\n",
       "      <td>Tanbuqiao</td>\n",
       "      <td>Female</td>\n",
       "      <td>White</td>\n",
       "      <td>dog</td>\n",
       "      <td>403</td>\n",
       "      <td>4367849</td>\n",
       "      <td>0</td>\n",
       "      <td>29-03-16</td>\n",
       "      <td>1</td>\n",
       "      <td>No</td>\n",
       "    </tr>\n",
       "    <tr>\n",
       "      <th>2</th>\n",
       "      <td>United States</td>\n",
       "      <td>El Paso</td>\n",
       "      <td>Male</td>\n",
       "      <td>Cuban</td>\n",
       "      <td>dog</td>\n",
       "      <td>6193</td>\n",
       "      <td>2939235</td>\n",
       "      <td>0</td>\n",
       "      <td>20-03-16</td>\n",
       "      <td>2</td>\n",
       "      <td>No</td>\n",
       "    </tr>\n",
       "    <tr>\n",
       "      <th>3</th>\n",
       "      <td>China</td>\n",
       "      <td>Zhongxin</td>\n",
       "      <td>Male</td>\n",
       "      <td>Spaniard</td>\n",
       "      <td>rabbit</td>\n",
       "      <td>9041</td>\n",
       "      <td>4852207</td>\n",
       "      <td>0</td>\n",
       "      <td>10-06-16</td>\n",
       "      <td>3</td>\n",
       "      <td>No</td>\n",
       "    </tr>\n",
       "    <tr>\n",
       "      <th>4</th>\n",
       "      <td>China</td>\n",
       "      <td>Bijia</td>\n",
       "      <td>Female</td>\n",
       "      <td>Colombian</td>\n",
       "      <td>cat</td>\n",
       "      <td>7505</td>\n",
       "      <td>6728496</td>\n",
       "      <td>0</td>\n",
       "      <td>17-01-16</td>\n",
       "      <td>4</td>\n",
       "      <td>No</td>\n",
       "    </tr>\n",
       "  </tbody>\n",
       "</table>\n",
       "</div>"
      ],
      "text/plain": [
       "         country       city  gender  ethnicity animal_type  animals   humans  \\\n",
       "0          China   Nuoxizhi    Male     Tongan    elephant     1733  9988566   \n",
       "1          China  Tanbuqiao  Female      White         dog      403  4367849   \n",
       "2  United States    El Paso    Male      Cuban         dog     6193  2939235   \n",
       "3          China   Zhongxin    Male   Spaniard      rabbit     9041  4852207   \n",
       "4          China      Bijia  Female  Colombian         cat     7505  6728496   \n",
       "\n",
       "   is_required last_updated_date  id need_human  \n",
       "0            0          19-01-16   0         No  \n",
       "1            0          29-03-16   1         No  \n",
       "2            0          20-03-16   2         No  \n",
       "3            0          10-06-16   3         No  \n",
       "4            0          17-01-16   4         No  "
      ]
     },
     "execution_count": 12,
     "metadata": {},
     "output_type": "execute_result"
    }
   ],
   "source": [
    "# Aplicamos un np where sobre una columna y creamos otra rellenando respecto si cumple nuestra condición\n",
    "df[\"need_human\"] = np.where(df[\"is_required\"] > 0 , \"Yes\", \"No\")\n",
    "df.head()"
   ]
  },
  {
   "cell_type": "code",
   "execution_count": 13,
   "id": "728b922c",
   "metadata": {},
   "outputs": [
    {
     "data": {
      "text/plain": [
       "Yes    50105\n",
       "No     49895\n",
       "Name: need_human, dtype: int64"
      ]
     },
     "execution_count": 13,
     "metadata": {},
     "output_type": "execute_result"
    }
   ],
   "source": [
    "#Checkeamos los resultados\n",
    "df[\"need_human\"].value_counts()"
   ]
  },
  {
   "cell_type": "markdown",
   "id": "73b13f41",
   "metadata": {},
   "source": [
    "# Creamos tres columnas nuevas indicando los dias, meses y años de la última actualización de datos."
   ]
  },
  {
   "cell_type": "code",
   "execution_count": 14,
   "id": "11b89204",
   "metadata": {},
   "outputs": [],
   "source": [
    "# Usando datetime\n",
    "df[\"last_updated_date\"] = pd.to_datetime(df[\"last_updated_date\"])\n",
    "df[\"year\"] = df[\"last_updated_date\"].dt.year\n",
    "df[\"month\"] = df[\"last_updated_date\"].dt.month\n",
    "df[\"day\"] = df [\"last_updated_date\"].dt.day"
   ]
  },
  {
   "cell_type": "code",
   "execution_count": 15,
   "id": "b23e9a9e",
   "metadata": {},
   "outputs": [
    {
     "data": {
      "text/plain": [
       "'\\ndef separar_fecha(fecha):\\n    return fecha.split(\"-\")[0], fecha.split(\"-\")[1], fecha.split(\"-\")[2]\\ndf[[\"day\", \"month\", \"year\"]] = df.apply(lambda f: separar_fecha(f[\"last_updated_date\"]), axis = 1, result_type = \"expand\")\\n'"
      ]
     },
     "execution_count": 15,
     "metadata": {},
     "output_type": "execute_result"
    }
   ],
   "source": [
    "# Haciéndolo con apply y funciones\n",
    "\"\"\"\n",
    "def separar_fecha(fecha):\n",
    "    return fecha.split(\"-\")[0], fecha.split(\"-\")[1], fecha.split(\"-\")[2]\n",
    "df[[\"day\", \"month\", \"year\"]] = df.apply(lambda f: separar_fecha(f[\"last_updated_date\"]), axis = 1, result_type = \"expand\")\n",
    "\"\"\""
   ]
  },
  {
   "cell_type": "code",
   "execution_count": 16,
   "id": "3128b636",
   "metadata": {},
   "outputs": [
    {
     "data": {
      "text/html": [
       "<div>\n",
       "<style scoped>\n",
       "    .dataframe tbody tr th:only-of-type {\n",
       "        vertical-align: middle;\n",
       "    }\n",
       "\n",
       "    .dataframe tbody tr th {\n",
       "        vertical-align: top;\n",
       "    }\n",
       "\n",
       "    .dataframe thead th {\n",
       "        text-align: right;\n",
       "    }\n",
       "</style>\n",
       "<table border=\"1\" class=\"dataframe\">\n",
       "  <thead>\n",
       "    <tr style=\"text-align: right;\">\n",
       "      <th></th>\n",
       "      <th>country</th>\n",
       "      <th>city</th>\n",
       "      <th>gender</th>\n",
       "      <th>ethnicity</th>\n",
       "      <th>animal_type</th>\n",
       "      <th>animals</th>\n",
       "      <th>humans</th>\n",
       "      <th>is_required</th>\n",
       "      <th>last_updated_date</th>\n",
       "      <th>id</th>\n",
       "      <th>need_human</th>\n",
       "      <th>year</th>\n",
       "      <th>month</th>\n",
       "      <th>day</th>\n",
       "    </tr>\n",
       "  </thead>\n",
       "  <tbody>\n",
       "    <tr>\n",
       "      <th>0</th>\n",
       "      <td>China</td>\n",
       "      <td>Nuoxizhi</td>\n",
       "      <td>Male</td>\n",
       "      <td>Tongan</td>\n",
       "      <td>elephant</td>\n",
       "      <td>1733</td>\n",
       "      <td>9988566</td>\n",
       "      <td>0</td>\n",
       "      <td>2016-01-19</td>\n",
       "      <td>0</td>\n",
       "      <td>No</td>\n",
       "      <td>2016</td>\n",
       "      <td>1</td>\n",
       "      <td>19</td>\n",
       "    </tr>\n",
       "    <tr>\n",
       "      <th>1</th>\n",
       "      <td>China</td>\n",
       "      <td>Tanbuqiao</td>\n",
       "      <td>Female</td>\n",
       "      <td>White</td>\n",
       "      <td>dog</td>\n",
       "      <td>403</td>\n",
       "      <td>4367849</td>\n",
       "      <td>0</td>\n",
       "      <td>2016-03-29</td>\n",
       "      <td>1</td>\n",
       "      <td>No</td>\n",
       "      <td>2016</td>\n",
       "      <td>3</td>\n",
       "      <td>29</td>\n",
       "    </tr>\n",
       "    <tr>\n",
       "      <th>2</th>\n",
       "      <td>United States</td>\n",
       "      <td>El Paso</td>\n",
       "      <td>Male</td>\n",
       "      <td>Cuban</td>\n",
       "      <td>dog</td>\n",
       "      <td>6193</td>\n",
       "      <td>2939235</td>\n",
       "      <td>0</td>\n",
       "      <td>2016-03-20</td>\n",
       "      <td>2</td>\n",
       "      <td>No</td>\n",
       "      <td>2016</td>\n",
       "      <td>3</td>\n",
       "      <td>20</td>\n",
       "    </tr>\n",
       "    <tr>\n",
       "      <th>3</th>\n",
       "      <td>China</td>\n",
       "      <td>Zhongxin</td>\n",
       "      <td>Male</td>\n",
       "      <td>Spaniard</td>\n",
       "      <td>rabbit</td>\n",
       "      <td>9041</td>\n",
       "      <td>4852207</td>\n",
       "      <td>0</td>\n",
       "      <td>2016-10-06</td>\n",
       "      <td>3</td>\n",
       "      <td>No</td>\n",
       "      <td>2016</td>\n",
       "      <td>10</td>\n",
       "      <td>6</td>\n",
       "    </tr>\n",
       "    <tr>\n",
       "      <th>4</th>\n",
       "      <td>China</td>\n",
       "      <td>Bijia</td>\n",
       "      <td>Female</td>\n",
       "      <td>Colombian</td>\n",
       "      <td>cat</td>\n",
       "      <td>7505</td>\n",
       "      <td>6728496</td>\n",
       "      <td>0</td>\n",
       "      <td>2016-01-17</td>\n",
       "      <td>4</td>\n",
       "      <td>No</td>\n",
       "      <td>2016</td>\n",
       "      <td>1</td>\n",
       "      <td>17</td>\n",
       "    </tr>\n",
       "  </tbody>\n",
       "</table>\n",
       "</div>"
      ],
      "text/plain": [
       "         country       city  gender  ethnicity animal_type  animals   humans  \\\n",
       "0          China   Nuoxizhi    Male     Tongan    elephant     1733  9988566   \n",
       "1          China  Tanbuqiao  Female      White         dog      403  4367849   \n",
       "2  United States    El Paso    Male      Cuban         dog     6193  2939235   \n",
       "3          China   Zhongxin    Male   Spaniard      rabbit     9041  4852207   \n",
       "4          China      Bijia  Female  Colombian         cat     7505  6728496   \n",
       "\n",
       "   is_required last_updated_date  id need_human  year  month  day  \n",
       "0            0        2016-01-19   0         No  2016      1   19  \n",
       "1            0        2016-03-29   1         No  2016      3   29  \n",
       "2            0        2016-03-20   2         No  2016      3   20  \n",
       "3            0        2016-10-06   3         No  2016     10    6  \n",
       "4            0        2016-01-17   4         No  2016      1   17  "
      ]
     },
     "execution_count": 16,
     "metadata": {},
     "output_type": "execute_result"
    }
   ],
   "source": [
    "df.head()"
   ]
  },
  {
   "cell_type": "markdown",
   "id": "f7334f5f",
   "metadata": {},
   "source": [
    "# Vamos a poner los meses en formato escrito en vez de numérico"
   ]
  },
  {
   "cell_type": "code",
   "execution_count": 17,
   "id": "3905e44c",
   "metadata": {},
   "outputs": [],
   "source": [
    "import calendar\n"
   ]
  },
  {
   "cell_type": "code",
   "execution_count": 18,
   "id": "b1ac9e0c",
   "metadata": {},
   "outputs": [
    {
     "data": {
      "text/plain": [
       "{1: 'January',\n",
       " 2: 'February',\n",
       " 3: 'March',\n",
       " 4: 'April',\n",
       " 5: 'May',\n",
       " 6: 'June',\n",
       " 7: 'July',\n",
       " 8: 'August',\n",
       " 9: 'September',\n",
       " 10: 'October',\n",
       " 11: 'November',\n",
       " 12: 'December'}"
      ]
     },
     "execution_count": 18,
     "metadata": {},
     "output_type": "execute_result"
    }
   ],
   "source": [
    "#Creamos un diccionario con los valores únicos de month ordenados como key y un método de calendar para los nombres de los meses\n",
    "dic_month = dict(zip(sorted(df[\"month\"].unique()),list(calendar.month_name)[1:]))\n",
    "dic_month"
   ]
  },
  {
   "cell_type": "code",
   "execution_count": 19,
   "id": "e25ae31f",
   "metadata": {},
   "outputs": [
    {
     "data": {
      "text/html": [
       "<div>\n",
       "<style scoped>\n",
       "    .dataframe tbody tr th:only-of-type {\n",
       "        vertical-align: middle;\n",
       "    }\n",
       "\n",
       "    .dataframe tbody tr th {\n",
       "        vertical-align: top;\n",
       "    }\n",
       "\n",
       "    .dataframe thead th {\n",
       "        text-align: right;\n",
       "    }\n",
       "</style>\n",
       "<table border=\"1\" class=\"dataframe\">\n",
       "  <thead>\n",
       "    <tr style=\"text-align: right;\">\n",
       "      <th></th>\n",
       "      <th>country</th>\n",
       "      <th>city</th>\n",
       "      <th>gender</th>\n",
       "      <th>ethnicity</th>\n",
       "      <th>animal_type</th>\n",
       "      <th>animals</th>\n",
       "      <th>humans</th>\n",
       "      <th>is_required</th>\n",
       "      <th>last_updated_date</th>\n",
       "      <th>id</th>\n",
       "      <th>need_human</th>\n",
       "      <th>year</th>\n",
       "      <th>month</th>\n",
       "      <th>day</th>\n",
       "    </tr>\n",
       "  </thead>\n",
       "  <tbody>\n",
       "    <tr>\n",
       "      <th>0</th>\n",
       "      <td>China</td>\n",
       "      <td>Nuoxizhi</td>\n",
       "      <td>Male</td>\n",
       "      <td>Tongan</td>\n",
       "      <td>elephant</td>\n",
       "      <td>1733</td>\n",
       "      <td>9988566</td>\n",
       "      <td>0</td>\n",
       "      <td>2016-01-19</td>\n",
       "      <td>0</td>\n",
       "      <td>No</td>\n",
       "      <td>2016</td>\n",
       "      <td>January</td>\n",
       "      <td>19</td>\n",
       "    </tr>\n",
       "    <tr>\n",
       "      <th>1</th>\n",
       "      <td>China</td>\n",
       "      <td>Tanbuqiao</td>\n",
       "      <td>Female</td>\n",
       "      <td>White</td>\n",
       "      <td>dog</td>\n",
       "      <td>403</td>\n",
       "      <td>4367849</td>\n",
       "      <td>0</td>\n",
       "      <td>2016-03-29</td>\n",
       "      <td>1</td>\n",
       "      <td>No</td>\n",
       "      <td>2016</td>\n",
       "      <td>March</td>\n",
       "      <td>29</td>\n",
       "    </tr>\n",
       "    <tr>\n",
       "      <th>2</th>\n",
       "      <td>United States</td>\n",
       "      <td>El Paso</td>\n",
       "      <td>Male</td>\n",
       "      <td>Cuban</td>\n",
       "      <td>dog</td>\n",
       "      <td>6193</td>\n",
       "      <td>2939235</td>\n",
       "      <td>0</td>\n",
       "      <td>2016-03-20</td>\n",
       "      <td>2</td>\n",
       "      <td>No</td>\n",
       "      <td>2016</td>\n",
       "      <td>March</td>\n",
       "      <td>20</td>\n",
       "    </tr>\n",
       "    <tr>\n",
       "      <th>3</th>\n",
       "      <td>China</td>\n",
       "      <td>Zhongxin</td>\n",
       "      <td>Male</td>\n",
       "      <td>Spaniard</td>\n",
       "      <td>rabbit</td>\n",
       "      <td>9041</td>\n",
       "      <td>4852207</td>\n",
       "      <td>0</td>\n",
       "      <td>2016-10-06</td>\n",
       "      <td>3</td>\n",
       "      <td>No</td>\n",
       "      <td>2016</td>\n",
       "      <td>October</td>\n",
       "      <td>6</td>\n",
       "    </tr>\n",
       "    <tr>\n",
       "      <th>4</th>\n",
       "      <td>China</td>\n",
       "      <td>Bijia</td>\n",
       "      <td>Female</td>\n",
       "      <td>Colombian</td>\n",
       "      <td>cat</td>\n",
       "      <td>7505</td>\n",
       "      <td>6728496</td>\n",
       "      <td>0</td>\n",
       "      <td>2016-01-17</td>\n",
       "      <td>4</td>\n",
       "      <td>No</td>\n",
       "      <td>2016</td>\n",
       "      <td>January</td>\n",
       "      <td>17</td>\n",
       "    </tr>\n",
       "  </tbody>\n",
       "</table>\n",
       "</div>"
      ],
      "text/plain": [
       "         country       city  gender  ethnicity animal_type  animals   humans  \\\n",
       "0          China   Nuoxizhi    Male     Tongan    elephant     1733  9988566   \n",
       "1          China  Tanbuqiao  Female      White         dog      403  4367849   \n",
       "2  United States    El Paso    Male      Cuban         dog     6193  2939235   \n",
       "3          China   Zhongxin    Male   Spaniard      rabbit     9041  4852207   \n",
       "4          China      Bijia  Female  Colombian         cat     7505  6728496   \n",
       "\n",
       "   is_required last_updated_date  id need_human  year    month  day  \n",
       "0            0        2016-01-19   0         No  2016  January   19  \n",
       "1            0        2016-03-29   1         No  2016    March   29  \n",
       "2            0        2016-03-20   2         No  2016    March   20  \n",
       "3            0        2016-10-06   3         No  2016  October    6  \n",
       "4            0        2016-01-17   4         No  2016  January   17  "
      ]
     },
     "execution_count": 19,
     "metadata": {},
     "output_type": "execute_result"
    }
   ],
   "source": [
    "#creamos una función que aplique nuestro diccionario y luego le hacemos apply en la columna meses\n",
    "def mes_nomb(mes):\n",
    "    return dic_month[mes]\n",
    "df[\"month\"] = df[\"month\"].apply(lambda x :mes_nomb(x))\n",
    "\n",
    "df.head()"
   ]
  },
  {
   "cell_type": "markdown",
   "id": "1399a62c",
   "metadata": {},
   "source": [
    "# Para mejor visualización de los datos (por hacer algo) vamos a ordenar las filas por paises, por tipo de animales y por raza."
   ]
  },
  {
   "cell_type": "code",
   "execution_count": 20,
   "id": "dd21b7d5",
   "metadata": {
    "scrolled": true
   },
   "outputs": [
    {
     "data": {
      "text/html": [
       "<div>\n",
       "<style scoped>\n",
       "    .dataframe tbody tr th:only-of-type {\n",
       "        vertical-align: middle;\n",
       "    }\n",
       "\n",
       "    .dataframe tbody tr th {\n",
       "        vertical-align: top;\n",
       "    }\n",
       "\n",
       "    .dataframe thead th {\n",
       "        text-align: right;\n",
       "    }\n",
       "</style>\n",
       "<table border=\"1\" class=\"dataframe\">\n",
       "  <thead>\n",
       "    <tr style=\"text-align: right;\">\n",
       "      <th></th>\n",
       "      <th>country</th>\n",
       "      <th>city</th>\n",
       "      <th>gender</th>\n",
       "      <th>ethnicity</th>\n",
       "      <th>animal_type</th>\n",
       "      <th>animals</th>\n",
       "      <th>humans</th>\n",
       "      <th>is_required</th>\n",
       "      <th>last_updated_date</th>\n",
       "      <th>id</th>\n",
       "      <th>need_human</th>\n",
       "      <th>year</th>\n",
       "      <th>month</th>\n",
       "      <th>day</th>\n",
       "    </tr>\n",
       "  </thead>\n",
       "  <tbody>\n",
       "    <tr>\n",
       "      <th>1949</th>\n",
       "      <td>Brazil</td>\n",
       "      <td>Pentecoste</td>\n",
       "      <td>Female</td>\n",
       "      <td>Alaska Native</td>\n",
       "      <td>cat</td>\n",
       "      <td>6177</td>\n",
       "      <td>3406801</td>\n",
       "      <td>1</td>\n",
       "      <td>2016-05-15</td>\n",
       "      <td>1949</td>\n",
       "      <td>Yes</td>\n",
       "      <td>2016</td>\n",
       "      <td>May</td>\n",
       "      <td>15</td>\n",
       "    </tr>\n",
       "    <tr>\n",
       "      <th>9096</th>\n",
       "      <td>Brazil</td>\n",
       "      <td>Macaíba</td>\n",
       "      <td>Male</td>\n",
       "      <td>Alaska Native</td>\n",
       "      <td>cat</td>\n",
       "      <td>2588</td>\n",
       "      <td>1941696</td>\n",
       "      <td>1</td>\n",
       "      <td>2015-12-23</td>\n",
       "      <td>9096</td>\n",
       "      <td>Yes</td>\n",
       "      <td>2015</td>\n",
       "      <td>December</td>\n",
       "      <td>23</td>\n",
       "    </tr>\n",
       "    <tr>\n",
       "      <th>10067</th>\n",
       "      <td>Brazil</td>\n",
       "      <td>Capela</td>\n",
       "      <td>Female</td>\n",
       "      <td>Alaska Native</td>\n",
       "      <td>cat</td>\n",
       "      <td>7178</td>\n",
       "      <td>844094</td>\n",
       "      <td>1</td>\n",
       "      <td>2016-07-29</td>\n",
       "      <td>10067</td>\n",
       "      <td>Yes</td>\n",
       "      <td>2016</td>\n",
       "      <td>July</td>\n",
       "      <td>29</td>\n",
       "    </tr>\n",
       "    <tr>\n",
       "      <th>13562</th>\n",
       "      <td>Brazil</td>\n",
       "      <td>Bayeux</td>\n",
       "      <td>Male</td>\n",
       "      <td>Alaska Native</td>\n",
       "      <td>cat</td>\n",
       "      <td>2423</td>\n",
       "      <td>1687036</td>\n",
       "      <td>1</td>\n",
       "      <td>2016-08-06</td>\n",
       "      <td>13562</td>\n",
       "      <td>Yes</td>\n",
       "      <td>2016</td>\n",
       "      <td>August</td>\n",
       "      <td>6</td>\n",
       "    </tr>\n",
       "    <tr>\n",
       "      <th>24426</th>\n",
       "      <td>Brazil</td>\n",
       "      <td>Ribeirão Pires</td>\n",
       "      <td>Male</td>\n",
       "      <td>Alaska Native</td>\n",
       "      <td>cat</td>\n",
       "      <td>1970</td>\n",
       "      <td>8027260</td>\n",
       "      <td>1</td>\n",
       "      <td>2016-08-02</td>\n",
       "      <td>24426</td>\n",
       "      <td>Yes</td>\n",
       "      <td>2016</td>\n",
       "      <td>August</td>\n",
       "      <td>2</td>\n",
       "    </tr>\n",
       "  </tbody>\n",
       "</table>\n",
       "</div>"
      ],
      "text/plain": [
       "      country            city  gender      ethnicity animal_type  animals  \\\n",
       "1949   Brazil      Pentecoste  Female  Alaska Native         cat     6177   \n",
       "9096   Brazil         Macaíba    Male  Alaska Native         cat     2588   \n",
       "10067  Brazil          Capela  Female  Alaska Native         cat     7178   \n",
       "13562  Brazil          Bayeux    Male  Alaska Native         cat     2423   \n",
       "24426  Brazil  Ribeirão Pires    Male  Alaska Native         cat     1970   \n",
       "\n",
       "        humans  is_required last_updated_date     id need_human  year  \\\n",
       "1949   3406801            1        2016-05-15   1949        Yes  2016   \n",
       "9096   1941696            1        2015-12-23   9096        Yes  2015   \n",
       "10067   844094            1        2016-07-29  10067        Yes  2016   \n",
       "13562  1687036            1        2016-08-06  13562        Yes  2016   \n",
       "24426  8027260            1        2016-08-02  24426        Yes  2016   \n",
       "\n",
       "          month  day  \n",
       "1949        May   15  \n",
       "9096   December   23  \n",
       "10067      July   29  \n",
       "13562    August    6  \n",
       "24426    August    2  "
      ]
     },
     "execution_count": 20,
     "metadata": {},
     "output_type": "execute_result"
    }
   ],
   "source": [
    "# Usamos el método sort_values para ordenar, ascending por defecto es True, pero es bueno visualizarlo\n",
    "df.sort_values(by = [\"country\", \"animal_type\", \"ethnicity\"], ascending = [True, True, True], inplace = True)\n",
    "df.head(5)"
   ]
  },
  {
   "cell_type": "code",
   "execution_count": 6,
   "id": "e7204ec6",
   "metadata": {},
   "outputs": [
    {
     "data": {
      "text/html": [
       "<div>\n",
       "<style scoped>\n",
       "    .dataframe tbody tr th:only-of-type {\n",
       "        vertical-align: middle;\n",
       "    }\n",
       "\n",
       "    .dataframe tbody tr th {\n",
       "        vertical-align: top;\n",
       "    }\n",
       "\n",
       "    .dataframe thead th {\n",
       "        text-align: right;\n",
       "    }\n",
       "</style>\n",
       "<table border=\"1\" class=\"dataframe\">\n",
       "  <thead>\n",
       "    <tr style=\"text-align: right;\">\n",
       "      <th></th>\n",
       "      <th>country</th>\n",
       "      <th>city</th>\n",
       "      <th>gender</th>\n",
       "      <th>ethnicity</th>\n",
       "      <th>animal_type</th>\n",
       "      <th>animals</th>\n",
       "      <th>humans</th>\n",
       "      <th>is_required</th>\n",
       "      <th>last_updated_date</th>\n",
       "    </tr>\n",
       "  </thead>\n",
       "  <tbody>\n",
       "    <tr>\n",
       "      <th>4</th>\n",
       "      <td>China</td>\n",
       "      <td>Bijia</td>\n",
       "      <td>Female</td>\n",
       "      <td>Colombian</td>\n",
       "      <td>cat</td>\n",
       "      <td>7505</td>\n",
       "      <td>6728496</td>\n",
       "      <td>0</td>\n",
       "      <td>17-01-16</td>\n",
       "    </tr>\n",
       "    <tr>\n",
       "      <th>42014</th>\n",
       "      <td>China</td>\n",
       "      <td>Bijia</td>\n",
       "      <td>Female</td>\n",
       "      <td>Indonesian</td>\n",
       "      <td>cat</td>\n",
       "      <td>1693</td>\n",
       "      <td>4191634</td>\n",
       "      <td>1</td>\n",
       "      <td>12-07-16</td>\n",
       "    </tr>\n",
       "    <tr>\n",
       "      <th>50277</th>\n",
       "      <td>China</td>\n",
       "      <td>Bijia</td>\n",
       "      <td>Female</td>\n",
       "      <td>South American</td>\n",
       "      <td>cat</td>\n",
       "      <td>5959</td>\n",
       "      <td>5665208</td>\n",
       "      <td>0</td>\n",
       "      <td>17-12-15</td>\n",
       "    </tr>\n",
       "  </tbody>\n",
       "</table>\n",
       "</div>"
      ],
      "text/plain": [
       "      country   city  gender       ethnicity animal_type  animals   humans  \\\n",
       "4       China  Bijia  Female       Colombian         cat     7505  6728496   \n",
       "42014   China  Bijia  Female      Indonesian         cat     1693  4191634   \n",
       "50277   China  Bijia  Female  South American         cat     5959  5665208   \n",
       "\n",
       "       is_required last_updated_date  \n",
       "4                0          17-01-16  \n",
       "42014            1          12-07-16  \n",
       "50277            0          17-12-15  "
      ]
     },
     "execution_count": 6,
     "metadata": {},
     "output_type": "execute_result"
    }
   ],
   "source": [
    "df[(df[\"animal_type\"] == \"cat\") &( df[\"city\"] == \"Bijia\")]"
   ]
  },
  {
   "cell_type": "markdown",
   "id": "5b117d8b",
   "metadata": {},
   "source": [
    "# Queremos saber cuántos animales se han contado en cada país"
   ]
  },
  {
   "cell_type": "code",
   "execution_count": 21,
   "id": "c44e639b",
   "metadata": {},
   "outputs": [
    {
     "data": {
      "text/html": [
       "<div>\n",
       "<style scoped>\n",
       "    .dataframe tbody tr th:only-of-type {\n",
       "        vertical-align: middle;\n",
       "    }\n",
       "\n",
       "    .dataframe tbody tr th {\n",
       "        vertical-align: top;\n",
       "    }\n",
       "\n",
       "    .dataframe thead th {\n",
       "        text-align: right;\n",
       "    }\n",
       "</style>\n",
       "<table border=\"1\" class=\"dataframe\">\n",
       "  <thead>\n",
       "    <tr style=\"text-align: right;\">\n",
       "      <th></th>\n",
       "      <th>country</th>\n",
       "      <th>animals</th>\n",
       "    </tr>\n",
       "  </thead>\n",
       "  <tbody>\n",
       "    <tr>\n",
       "      <th>0</th>\n",
       "      <td>Brazil</td>\n",
       "      <td>74388992</td>\n",
       "    </tr>\n",
       "    <tr>\n",
       "      <th>1</th>\n",
       "      <td>Canada</td>\n",
       "      <td>22823660</td>\n",
       "    </tr>\n",
       "    <tr>\n",
       "      <th>2</th>\n",
       "      <td>China</td>\n",
       "      <td>357678243</td>\n",
       "    </tr>\n",
       "    <tr>\n",
       "      <th>3</th>\n",
       "      <td>India</td>\n",
       "      <td>128573</td>\n",
       "    </tr>\n",
       "    <tr>\n",
       "      <th>4</th>\n",
       "      <td>United States</td>\n",
       "      <td>43691169</td>\n",
       "    </tr>\n",
       "  </tbody>\n",
       "</table>\n",
       "</div>"
      ],
      "text/plain": [
       "         country    animals\n",
       "0         Brazil   74388992\n",
       "1         Canada   22823660\n",
       "2          China  357678243\n",
       "3          India     128573\n",
       "4  United States   43691169"
      ]
     },
     "execution_count": 21,
     "metadata": {},
     "output_type": "execute_result"
    }
   ],
   "source": [
    "# Usamos un groupby para sumar los animales de cada país\n",
    "dfpais_animal = df.groupby([\"country\"])[\"animals\"].sum().reset_index()\n",
    "dfpais_animal"
   ]
  },
  {
   "cell_type": "code",
   "execution_count": 22,
   "id": "e13898d2",
   "metadata": {},
   "outputs": [
    {
     "data": {
      "image/png": "[encoded data removed]",
      "text/plain": [
       "<Figure size 432x288 with 1 Axes>"
      ]
     },
     "metadata": {
      "needs_background": "light"
     },
     "output_type": "display_data"
    }
   ],
   "source": [
    "# Vamos a visualizar los resultados\n",
    "sns.barplot(x = 'country', y = 'animals', data = dfpais_animal);"
   ]
  },
  {
   "cell_type": "markdown",
   "id": "00392fa4",
   "metadata": {},
   "source": [
    "En esta gráfica vemos cuántos animales se han muestreado en cada país, y como podemos apreciar, la mayoría de nuestros datos vienen de China. Nos invaden los chinos! 😲😲"
   ]
  },
  {
   "cell_type": "markdown",
   "id": "64032f2d",
   "metadata": {},
   "source": [
    "# Como podemos ver en el gráfico, los datos de la India no son relevantes en nuestro DF, por lo que vamos a eliminarlo"
   ]
  },
  {
   "cell_type": "code",
   "execution_count": 23,
   "id": "4315afe6",
   "metadata": {},
   "outputs": [
    {
     "data": {
      "text/plain": [
       "China            71833\n",
       "Brazil           14800\n",
       "United States     8777\n",
       "Canada            4567\n",
       "Name: country, dtype: int64"
      ]
     },
     "execution_count": 23,
     "metadata": {},
     "output_type": "execute_result"
    }
   ],
   "source": [
    "# Vamos a eliminar nuestros datos procedentes de la India\n",
    "df2 = df[df[\"country\"] != \"India\"]\n",
    "df2[\"country\"].value_counts()"
   ]
  },
  {
   "cell_type": "code",
   "execution_count": 24,
   "id": "d0917ca5",
   "metadata": {},
   "outputs": [
    {
     "data": {
      "image/png": "[encoded data removed]",
      "text/plain": [
       "<Figure size 432x288 with 1 Axes>"
      ]
     },
     "metadata": {},
     "output_type": "display_data"
    }
   ],
   "source": [
    "# Veamos de nuevo la gráfica anterior sin los datos de India\n",
    "dfpais_animal2 = df2.groupby([\"country\"])[\"animals\"].sum().reset_index()\n",
    "\n",
    "plt.pie(dfpais_animal2[\"animals\"],\n",
    "        labels = dfpais_animal2[\"country\"],\n",
    "        autopct = \"%1.2f%%\",\n",
    "        radius = 2);"
   ]
  },
  {
   "cell_type": "markdown",
   "id": "b2e6055c",
   "metadata": {},
   "source": [
    "# Para analizar si las poblaciones de animales son sanas, nos interesa saber el porcentaje de machos y hembras, si este porcentaje es cercano al 50% bien"
   ]
  },
  {
   "cell_type": "code",
   "execution_count": 25,
   "id": "2413bdae",
   "metadata": {},
   "outputs": [
    {
     "data": {
      "text/plain": [
       "animal_type  gender\n",
       "cat          Female    49.762600\n",
       "             Male      50.237400\n",
       "dog          Female    49.543322\n",
       "             Male      50.456678\n",
       "elephant     Female    49.788112\n",
       "             Male      50.211888\n",
       "horse        Female    50.566274\n",
       "             Male      49.433726\n",
       "rabbit       Female    49.615236\n",
       "             Male      50.384764\n",
       "Name: animals, dtype: float64"
      ]
     },
     "execution_count": 25,
     "metadata": {},
     "output_type": "execute_result"
    }
   ],
   "source": [
    "#Primero vamos a sacar los machos y hembras de cada especie\n",
    "dfani_sex = df.groupby([\"animal_type\",\"gender\"])[\"animals\"].sum()\n",
    "dfani_tot = df.groupby(\"animal_type\")[\"animals\"].sum()\n",
    "(dfani_sex/df.groupby(\"animal_type\")[\"animals\"].sum()) * 100"
   ]
  },
  {
   "cell_type": "code",
   "execution_count": 26,
   "id": "6cfb2fb5",
   "metadata": {},
   "outputs": [
    {
     "data": {
      "text/plain": [
       "gender  animal_type\n",
       "Female  cat            49778611\n",
       "        dog            49363116\n",
       "        elephant       49824777\n",
       "        horse          50189083\n",
       "        rabbit         49473578\n",
       "Male    cat            50253564\n",
       "        dog            50273150\n",
       "        elephant       50248866\n",
       "        horse          49064983\n",
       "        rabbit         50240909\n",
       "Name: animals, dtype: int64"
      ]
     },
     "execution_count": 26,
     "metadata": {},
     "output_type": "execute_result"
    }
   ],
   "source": [
    "#las poblaciones más o menos están equilibradas, pero vamos a \"VISUALIZARLO\" mejor\n",
    "#Agrupo por sexo y tipo de animal y sumo los animales (en el anterior lo hice percentil... no me vale)\n",
    "dfani_sex = df.groupby([\"gender\",\"animal_type\"])[\"animals\"].sum()\n",
    "dfani_sex"
   ]
  },
  {
   "cell_type": "code",
   "execution_count": 27,
   "id": "337e2e3f",
   "metadata": {},
   "outputs": [
    {
     "data": {
      "text/html": [
       "<div>\n",
       "<style scoped>\n",
       "    .dataframe tbody tr th:only-of-type {\n",
       "        vertical-align: middle;\n",
       "    }\n",
       "\n",
       "    .dataframe tbody tr th {\n",
       "        vertical-align: top;\n",
       "    }\n",
       "\n",
       "    .dataframe thead th {\n",
       "        text-align: right;\n",
       "    }\n",
       "</style>\n",
       "<table border=\"1\" class=\"dataframe\">\n",
       "  <thead>\n",
       "    <tr style=\"text-align: right;\">\n",
       "      <th></th>\n",
       "      <th>Female</th>\n",
       "      <th>Male</th>\n",
       "    </tr>\n",
       "  </thead>\n",
       "  <tbody>\n",
       "    <tr>\n",
       "      <th>0</th>\n",
       "      <td>49778611</td>\n",
       "      <td>50253564</td>\n",
       "    </tr>\n",
       "    <tr>\n",
       "      <th>1</th>\n",
       "      <td>49363116</td>\n",
       "      <td>50273150</td>\n",
       "    </tr>\n",
       "    <tr>\n",
       "      <th>2</th>\n",
       "      <td>49824777</td>\n",
       "      <td>50248866</td>\n",
       "    </tr>\n",
       "    <tr>\n",
       "      <th>3</th>\n",
       "      <td>50189083</td>\n",
       "      <td>49064983</td>\n",
       "    </tr>\n",
       "    <tr>\n",
       "      <th>4</th>\n",
       "      <td>49473578</td>\n",
       "      <td>50240909</td>\n",
       "    </tr>\n",
       "  </tbody>\n",
       "</table>\n",
       "</div>"
      ],
      "text/plain": [
       "     Female      Male\n",
       "0  49778611  50253564\n",
       "1  49363116  50273150\n",
       "2  49824777  50248866\n",
       "3  50189083  49064983\n",
       "4  49473578  50240909"
      ]
     },
     "execution_count": 27,
     "metadata": {},
     "output_type": "execute_result"
    }
   ],
   "source": [
    "#Creo un diccionario con los machos y hembras y les pongo sus respectivas keys\n",
    "animal_dict = {\"Female\": list(dfani_sex.loc[\"Female\"]), \"Male\": list(dfani_sex.loc[\"Male\"])}\n",
    "#Creo un DF de este dict\n",
    "dfsex = pd.DataFrame(animal_dict)\n",
    "dfsex"
   ]
  },
  {
   "cell_type": "code",
   "execution_count": 28,
   "id": "d323c9df",
   "metadata": {},
   "outputs": [],
   "source": [
    "#Creo una lista iterando por las lista de machos y hembras del total de ambos\n",
    "totals = [a + b for a, b in zip(dfsex[\"Female\"], dfsex[\"Male\"])]\n",
    "# Creo dos listas con los datos de los machos y hembras de cada especie en percentil\n",
    "female_bars = [a / b * 100 for a, b in zip(dfsex[\"Female\"], totals)]\n",
    "male_bars = [a / b * 100 for a, b in zip(dfsex[\"Male\"], totals)]"
   ]
  },
  {
   "cell_type": "code",
   "execution_count": 29,
   "id": "f60d7626",
   "metadata": {},
   "outputs": [
    {
     "data": {
      "text/plain": [
       "['cat', 'dog', 'elephant', 'horse', 'rabbit']"
      ]
     },
     "execution_count": 29,
     "metadata": {},
     "output_type": "execute_result"
    }
   ],
   "source": [
    "list(df[\"animal_type\"].unique())"
   ]
  },
  {
   "cell_type": "code",
   "execution_count": 30,
   "id": "a7760dd6",
   "metadata": {
    "scrolled": true
   },
   "outputs": [
    {
     "data": {
      "text/plain": [
       "<matplotlib.legend.Legend at 0x12cf3ef88e0>"
      ]
     },
     "execution_count": 30,
     "metadata": {},
     "output_type": "execute_result"
    },
    {
     "data": {
      "image/png": "[encoded data removed]",
      "text/plain": [
       "<Figure size 432x288 with 1 Axes>"
      ]
     },
     "metadata": {
      "needs_background": "light"
     },
     "output_type": "display_data"
    }
   ],
   "source": [
    "# Creamos un.... Percent stacked barplot para visualizar!\n",
    "#Creo un rango de la misma longitud que mis datos\n",
    "r = [i for i in range(len(dfani_sex.loc[\"Female\"]))]\n",
    "#Creo una lista con los nombres de los animales\n",
    "col_name = list(df[\"animal_type\"].unique())\n",
    "#Creo las columnas Male\n",
    "plt.bar(r, male_bars,\n",
    "        color = \"b\",\n",
    "        edgecolor = \"white\",\n",
    "        width = 1,\n",
    "        label = \"Male\")\n",
    "\n",
    "#Creo las columnas Female\n",
    "plt.bar(r, female_bars,\n",
    "        bottom = male_bars,\n",
    "        color = \"r\",\n",
    "        edgecolor = \"white\",\n",
    "        width = 1,\n",
    "        label = \"Female\")\n",
    "\n",
    "#Cambio los nombres de las columnas\n",
    "plt.xticks(r, col_name)\n",
    "#\n",
    "plt.xlabel(\"Animals\")\n",
    "#Creo la leyenda\n",
    "plt.legend(loc='upper left', bbox_to_anchor=(1,1), ncol=1)"
   ]
  },
  {
   "cell_type": "markdown",
   "id": "6e186859",
   "metadata": {},
   "source": [
    "Como podemos ver en la gráfica anterior, en todos nuestros animales el ratio de machos y hembras es muy cercano al 1, es decir, las poblaciones de machos son muy próximas a las de las hembras, por lo que tenemos una población balanceada! 👍👍"
   ]
  },
  {
   "cell_type": "markdown",
   "id": "da529b77",
   "metadata": {},
   "source": [
    "# Queremos ver gaticos!! 🐈🐈 digo... queremos ver cuántos gatos de distintas razas tenemos en Brasil"
   ]
  },
  {
   "cell_type": "code",
   "execution_count": 31,
   "id": "721111a4",
   "metadata": {},
   "outputs": [
    {
     "data": {
      "text/html": [
       "<div>\n",
       "<style scoped>\n",
       "    .dataframe tbody tr th:only-of-type {\n",
       "        vertical-align: middle;\n",
       "    }\n",
       "\n",
       "    .dataframe tbody tr th {\n",
       "        vertical-align: top;\n",
       "    }\n",
       "\n",
       "    .dataframe thead th {\n",
       "        text-align: right;\n",
       "    }\n",
       "</style>\n",
       "<table border=\"1\" class=\"dataframe\">\n",
       "  <thead>\n",
       "    <tr style=\"text-align: right;\">\n",
       "      <th></th>\n",
       "      <th>country</th>\n",
       "      <th>city</th>\n",
       "      <th>gender</th>\n",
       "      <th>ethnicity</th>\n",
       "      <th>animal_type</th>\n",
       "      <th>animals</th>\n",
       "      <th>humans</th>\n",
       "      <th>is_required</th>\n",
       "      <th>last_updated_date</th>\n",
       "      <th>id</th>\n",
       "      <th>need_human</th>\n",
       "      <th>year</th>\n",
       "      <th>month</th>\n",
       "      <th>day</th>\n",
       "    </tr>\n",
       "  </thead>\n",
       "  <tbody>\n",
       "    <tr>\n",
       "      <th>1949</th>\n",
       "      <td>Brazil</td>\n",
       "      <td>Pentecoste</td>\n",
       "      <td>Female</td>\n",
       "      <td>Alaska Native</td>\n",
       "      <td>cat</td>\n",
       "      <td>6177</td>\n",
       "      <td>3406801</td>\n",
       "      <td>1</td>\n",
       "      <td>2016-05-15</td>\n",
       "      <td>1949</td>\n",
       "      <td>Yes</td>\n",
       "      <td>2016</td>\n",
       "      <td>May</td>\n",
       "      <td>15</td>\n",
       "    </tr>\n",
       "    <tr>\n",
       "      <th>9096</th>\n",
       "      <td>Brazil</td>\n",
       "      <td>Macaíba</td>\n",
       "      <td>Male</td>\n",
       "      <td>Alaska Native</td>\n",
       "      <td>cat</td>\n",
       "      <td>2588</td>\n",
       "      <td>1941696</td>\n",
       "      <td>1</td>\n",
       "      <td>2015-12-23</td>\n",
       "      <td>9096</td>\n",
       "      <td>Yes</td>\n",
       "      <td>2015</td>\n",
       "      <td>December</td>\n",
       "      <td>23</td>\n",
       "    </tr>\n",
       "    <tr>\n",
       "      <th>10067</th>\n",
       "      <td>Brazil</td>\n",
       "      <td>Capela</td>\n",
       "      <td>Female</td>\n",
       "      <td>Alaska Native</td>\n",
       "      <td>cat</td>\n",
       "      <td>7178</td>\n",
       "      <td>844094</td>\n",
       "      <td>1</td>\n",
       "      <td>2016-07-29</td>\n",
       "      <td>10067</td>\n",
       "      <td>Yes</td>\n",
       "      <td>2016</td>\n",
       "      <td>July</td>\n",
       "      <td>29</td>\n",
       "    </tr>\n",
       "    <tr>\n",
       "      <th>13562</th>\n",
       "      <td>Brazil</td>\n",
       "      <td>Bayeux</td>\n",
       "      <td>Male</td>\n",
       "      <td>Alaska Native</td>\n",
       "      <td>cat</td>\n",
       "      <td>2423</td>\n",
       "      <td>1687036</td>\n",
       "      <td>1</td>\n",
       "      <td>2016-08-06</td>\n",
       "      <td>13562</td>\n",
       "      <td>Yes</td>\n",
       "      <td>2016</td>\n",
       "      <td>August</td>\n",
       "      <td>6</td>\n",
       "    </tr>\n",
       "    <tr>\n",
       "      <th>24426</th>\n",
       "      <td>Brazil</td>\n",
       "      <td>Ribeirão Pires</td>\n",
       "      <td>Male</td>\n",
       "      <td>Alaska Native</td>\n",
       "      <td>cat</td>\n",
       "      <td>1970</td>\n",
       "      <td>8027260</td>\n",
       "      <td>1</td>\n",
       "      <td>2016-08-02</td>\n",
       "      <td>24426</td>\n",
       "      <td>Yes</td>\n",
       "      <td>2016</td>\n",
       "      <td>August</td>\n",
       "      <td>2</td>\n",
       "    </tr>\n",
       "    <tr>\n",
       "      <th>25461</th>\n",
       "      <td>Brazil</td>\n",
       "      <td>Várzea Paulista</td>\n",
       "      <td>Female</td>\n",
       "      <td>Alaska Native</td>\n",
       "      <td>cat</td>\n",
       "      <td>3611</td>\n",
       "      <td>8205139</td>\n",
       "      <td>1</td>\n",
       "      <td>2016-10-06</td>\n",
       "      <td>25461</td>\n",
       "      <td>Yes</td>\n",
       "      <td>2016</td>\n",
       "      <td>October</td>\n",
       "      <td>6</td>\n",
       "    </tr>\n",
       "    <tr>\n",
       "      <th>27113</th>\n",
       "      <td>Brazil</td>\n",
       "      <td>Ilhabela</td>\n",
       "      <td>Male</td>\n",
       "      <td>Alaska Native</td>\n",
       "      <td>cat</td>\n",
       "      <td>7221</td>\n",
       "      <td>2298932</td>\n",
       "      <td>1</td>\n",
       "      <td>2016-02-19</td>\n",
       "      <td>27113</td>\n",
       "      <td>Yes</td>\n",
       "      <td>2016</td>\n",
       "      <td>February</td>\n",
       "      <td>19</td>\n",
       "    </tr>\n",
       "    <tr>\n",
       "      <th>27198</th>\n",
       "      <td>Brazil</td>\n",
       "      <td>João Pessoa</td>\n",
       "      <td>Female</td>\n",
       "      <td>Alaska Native</td>\n",
       "      <td>cat</td>\n",
       "      <td>1032</td>\n",
       "      <td>141433</td>\n",
       "      <td>1</td>\n",
       "      <td>2016-06-10</td>\n",
       "      <td>27198</td>\n",
       "      <td>Yes</td>\n",
       "      <td>2016</td>\n",
       "      <td>June</td>\n",
       "      <td>10</td>\n",
       "    </tr>\n",
       "    <tr>\n",
       "      <th>28791</th>\n",
       "      <td>Brazil</td>\n",
       "      <td>Cruzeiro do Oeste</td>\n",
       "      <td>Female</td>\n",
       "      <td>Alaska Native</td>\n",
       "      <td>cat</td>\n",
       "      <td>141</td>\n",
       "      <td>4000144</td>\n",
       "      <td>1</td>\n",
       "      <td>2015-04-12</td>\n",
       "      <td>28791</td>\n",
       "      <td>Yes</td>\n",
       "      <td>2015</td>\n",
       "      <td>April</td>\n",
       "      <td>12</td>\n",
       "    </tr>\n",
       "    <tr>\n",
       "      <th>29890</th>\n",
       "      <td>Brazil</td>\n",
       "      <td>Esplanada</td>\n",
       "      <td>Male</td>\n",
       "      <td>Alaska Native</td>\n",
       "      <td>cat</td>\n",
       "      <td>9454</td>\n",
       "      <td>7385560</td>\n",
       "      <td>0</td>\n",
       "      <td>2016-01-23</td>\n",
       "      <td>29890</td>\n",
       "      <td>No</td>\n",
       "      <td>2016</td>\n",
       "      <td>January</td>\n",
       "      <td>23</td>\n",
       "    </tr>\n",
       "  </tbody>\n",
       "</table>\n",
       "</div>"
      ],
      "text/plain": [
       "      country               city  gender      ethnicity animal_type  animals  \\\n",
       "1949   Brazil         Pentecoste  Female  Alaska Native         cat     6177   \n",
       "9096   Brazil            Macaíba    Male  Alaska Native         cat     2588   \n",
       "10067  Brazil             Capela  Female  Alaska Native         cat     7178   \n",
       "13562  Brazil             Bayeux    Male  Alaska Native         cat     2423   \n",
       "24426  Brazil     Ribeirão Pires    Male  Alaska Native         cat     1970   \n",
       "25461  Brazil    Várzea Paulista  Female  Alaska Native         cat     3611   \n",
       "27113  Brazil           Ilhabela    Male  Alaska Native         cat     7221   \n",
       "27198  Brazil        João Pessoa  Female  Alaska Native         cat     1032   \n",
       "28791  Brazil  Cruzeiro do Oeste  Female  Alaska Native         cat      141   \n",
       "29890  Brazil          Esplanada    Male  Alaska Native         cat     9454   \n",
       "\n",
       "        humans  is_required last_updated_date     id need_human  year  \\\n",
       "1949   3406801            1        2016-05-15   1949        Yes  2016   \n",
       "9096   1941696            1        2015-12-23   9096        Yes  2015   \n",
       "10067   844094            1        2016-07-29  10067        Yes  2016   \n",
       "13562  1687036            1        2016-08-06  13562        Yes  2016   \n",
       "24426  8027260            1        2016-08-02  24426        Yes  2016   \n",
       "25461  8205139            1        2016-10-06  25461        Yes  2016   \n",
       "27113  2298932            1        2016-02-19  27113        Yes  2016   \n",
       "27198   141433            1        2016-06-10  27198        Yes  2016   \n",
       "28791  4000144            1        2015-04-12  28791        Yes  2015   \n",
       "29890  7385560            0        2016-01-23  29890         No  2016   \n",
       "\n",
       "          month  day  \n",
       "1949        May   15  \n",
       "9096   December   23  \n",
       "10067      July   29  \n",
       "13562    August    6  \n",
       "24426    August    2  \n",
       "25461   October    6  \n",
       "27113  February   19  \n",
       "27198      June   10  \n",
       "28791     April   12  \n",
       "29890   January   23  "
      ]
     },
     "execution_count": 31,
     "metadata": {},
     "output_type": "execute_result"
    }
   ],
   "source": [
    "#Primero extraigo de mi DF los datos que me interesan, es decir solo los 😻 GATOS!!!😻 de Brazil\n",
    "df_cat = df[(df[\"animal_type\"] == \"cat\") & (df[\"country\"] == \"Brazil\")]\n",
    "df_cat.head(10)"
   ]
  },
  {
   "cell_type": "code",
   "execution_count": 32,
   "id": "bb11b478",
   "metadata": {},
   "outputs": [
    {
     "data": {
      "text/plain": [
       "ethnicity\n",
       "Alaska Native                               189634\n",
       "Alaskan Athabascan                          177397\n",
       "Aleut                                       172124\n",
       "American Indian                             126935\n",
       "American Indian and Alaska Native (AIAN)    157451\n",
       "                                             ...  \n",
       "Vietnamese                                  112166\n",
       "White                                       166404\n",
       "Yakama                                      144540\n",
       "Yaqui                                       232244\n",
       "Yuman                                       137519\n",
       "Name: animals, Length: 93, dtype: int64"
      ]
     },
     "execution_count": 32,
     "metadata": {},
     "output_type": "execute_result"
    }
   ],
   "source": [
    "#Sumo los gatos por especie (Hay como 60 razas más de gatos de los que me esperaba...😥😥)\n",
    "df_cat_raz = (df_cat.groupby([\"ethnicity\"])[\"animals\"].sum())\n",
    "df_cat_raz"
   ]
  },
  {
   "cell_type": "code",
   "execution_count": 33,
   "id": "a07f8c8f",
   "metadata": {
    "scrolled": true
   },
   "outputs": [
    {
     "data": {
      "image/png": "[encoded data removed]",
      "text/plain": [
       "<Figure size 324x324 with 1 Axes>"
      ]
     },
     "metadata": {
      "needs_background": "light"
     },
     "output_type": "display_data"
    }
   ],
   "source": [
    "# Replanteamos el análisis, con los datos anteriores queremos ver la distribución de la población de las especies\n",
    "fig_cat = sns.displot(x = df_cat_raz,\n",
    "                      facecolor = \"orange\",\n",
    "                      bins= 30,\n",
    "                      kde = True,\n",
    "                      height = 4.5)\n",
    "\n",
    "fig_cat.set_xticklabels(rotation = 45)\n",
    "plt.show();"
   ]
  },
  {
   "cell_type": "markdown",
   "id": "7f9af08d",
   "metadata": {},
   "source": [
    "# Ejercicio extra porque no tengo 5 visualizaciones!🤪🤪\n",
    "# Queremos ver cuántos datos se han recogido en cada año y comparar por mes"
   ]
  },
  {
   "cell_type": "code",
   "execution_count": 34,
   "id": "97a4bd81",
   "metadata": {},
   "outputs": [
    {
     "data": {
      "text/plain": [
       "array([2016, 2015], dtype=int64)"
      ]
     },
     "execution_count": 34,
     "metadata": {},
     "output_type": "execute_result"
    }
   ],
   "source": [
    "#Checkeamos los años que tenemos\n",
    "df[\"year\"].unique()"
   ]
  },
  {
   "cell_type": "code",
   "execution_count": 35,
   "id": "381da602",
   "metadata": {},
   "outputs": [],
   "source": [
    "#Extraigo dos DF con los datos de cada año\n",
    "df_2015, df_2016 = (df[df[\"year\"] == 2015]), (df[df[\"year\"] == 2016])"
   ]
  },
  {
   "cell_type": "code",
   "execution_count": 36,
   "id": "f7937c5b",
   "metadata": {},
   "outputs": [
    {
     "data": {
      "text/html": [
       "<div>\n",
       "<style scoped>\n",
       "    .dataframe tbody tr th:only-of-type {\n",
       "        vertical-align: middle;\n",
       "    }\n",
       "\n",
       "    .dataframe tbody tr th {\n",
       "        vertical-align: top;\n",
       "    }\n",
       "\n",
       "    .dataframe thead th {\n",
       "        text-align: right;\n",
       "    }\n",
       "</style>\n",
       "<table border=\"1\" class=\"dataframe\">\n",
       "  <thead>\n",
       "    <tr style=\"text-align: right;\">\n",
       "      <th></th>\n",
       "      <th>last_updated_date</th>\n",
       "      <th>animals</th>\n",
       "    </tr>\n",
       "  </thead>\n",
       "  <tbody>\n",
       "    <tr>\n",
       "      <th>0</th>\n",
       "      <td>1</td>\n",
       "      <td>1367556</td>\n",
       "    </tr>\n",
       "    <tr>\n",
       "      <th>1</th>\n",
       "      <td>2</td>\n",
       "      <td>2672614</td>\n",
       "    </tr>\n",
       "    <tr>\n",
       "      <th>2</th>\n",
       "      <td>3</td>\n",
       "      <td>2882102</td>\n",
       "    </tr>\n",
       "    <tr>\n",
       "      <th>3</th>\n",
       "      <td>4</td>\n",
       "      <td>2813451</td>\n",
       "    </tr>\n",
       "    <tr>\n",
       "      <th>4</th>\n",
       "      <td>5</td>\n",
       "      <td>2998230</td>\n",
       "    </tr>\n",
       "    <tr>\n",
       "      <th>5</th>\n",
       "      <td>6</td>\n",
       "      <td>2661908</td>\n",
       "    </tr>\n",
       "    <tr>\n",
       "      <th>6</th>\n",
       "      <td>7</td>\n",
       "      <td>2574115</td>\n",
       "    </tr>\n",
       "    <tr>\n",
       "      <th>7</th>\n",
       "      <td>8</td>\n",
       "      <td>2685910</td>\n",
       "    </tr>\n",
       "    <tr>\n",
       "      <th>8</th>\n",
       "      <td>9</td>\n",
       "      <td>2596723</td>\n",
       "    </tr>\n",
       "    <tr>\n",
       "      <th>9</th>\n",
       "      <td>10</td>\n",
       "      <td>2675887</td>\n",
       "    </tr>\n",
       "    <tr>\n",
       "      <th>10</th>\n",
       "      <td>11</td>\n",
       "      <td>27632911</td>\n",
       "    </tr>\n",
       "    <tr>\n",
       "      <th>11</th>\n",
       "      <td>12</td>\n",
       "      <td>28447538</td>\n",
       "    </tr>\n",
       "  </tbody>\n",
       "</table>\n",
       "</div>"
      ],
      "text/plain": [
       "    last_updated_date   animals\n",
       "0                   1   1367556\n",
       "1                   2   2672614\n",
       "2                   3   2882102\n",
       "3                   4   2813451\n",
       "4                   5   2998230\n",
       "5                   6   2661908\n",
       "6                   7   2574115\n",
       "7                   8   2685910\n",
       "8                   9   2596723\n",
       "9                  10   2675887\n",
       "10                 11  27632911\n",
       "11                 12  28447538"
      ]
     },
     "execution_count": 36,
     "metadata": {},
     "output_type": "execute_result"
    }
   ],
   "source": [
    "#Agrupamos los animales registrados por mes en 2015\n",
    "df_reg2015 = (df_2015.groupby(df[\"last_updated_date\"].dt.month)[\"animals\"].sum()).reset_index()\n",
    "df_reg2015"
   ]
  },
  {
   "cell_type": "code",
   "execution_count": 37,
   "id": "bf97d130",
   "metadata": {},
   "outputs": [
    {
     "data": {
      "text/html": [
       "<div>\n",
       "<style scoped>\n",
       "    .dataframe tbody tr th:only-of-type {\n",
       "        vertical-align: middle;\n",
       "    }\n",
       "\n",
       "    .dataframe tbody tr th {\n",
       "        vertical-align: top;\n",
       "    }\n",
       "\n",
       "    .dataframe thead th {\n",
       "        text-align: right;\n",
       "    }\n",
       "</style>\n",
       "<table border=\"1\" class=\"dataframe\">\n",
       "  <thead>\n",
       "    <tr style=\"text-align: right;\">\n",
       "      <th></th>\n",
       "      <th>last_updated_date</th>\n",
       "      <th>animals</th>\n",
       "    </tr>\n",
       "  </thead>\n",
       "  <tbody>\n",
       "    <tr>\n",
       "      <th>0</th>\n",
       "      <td>1</td>\n",
       "      <td>41197277</td>\n",
       "    </tr>\n",
       "    <tr>\n",
       "      <th>1</th>\n",
       "      <td>2</td>\n",
       "      <td>36261763</td>\n",
       "    </tr>\n",
       "    <tr>\n",
       "      <th>2</th>\n",
       "      <td>3</td>\n",
       "      <td>39069507</td>\n",
       "    </tr>\n",
       "    <tr>\n",
       "      <th>3</th>\n",
       "      <td>4</td>\n",
       "      <td>37801921</td>\n",
       "    </tr>\n",
       "    <tr>\n",
       "      <th>4</th>\n",
       "      <td>5</td>\n",
       "      <td>39409250</td>\n",
       "    </tr>\n",
       "    <tr>\n",
       "      <th>5</th>\n",
       "      <td>6</td>\n",
       "      <td>38344905</td>\n",
       "    </tr>\n",
       "    <tr>\n",
       "      <th>6</th>\n",
       "      <td>7</td>\n",
       "      <td>39426520</td>\n",
       "    </tr>\n",
       "    <tr>\n",
       "      <th>7</th>\n",
       "      <td>8</td>\n",
       "      <td>39395075</td>\n",
       "    </tr>\n",
       "    <tr>\n",
       "      <th>8</th>\n",
       "      <td>9</td>\n",
       "      <td>38905000</td>\n",
       "    </tr>\n",
       "    <tr>\n",
       "      <th>9</th>\n",
       "      <td>10</td>\n",
       "      <td>39756113</td>\n",
       "    </tr>\n",
       "    <tr>\n",
       "      <th>10</th>\n",
       "      <td>11</td>\n",
       "      <td>13728353</td>\n",
       "    </tr>\n",
       "    <tr>\n",
       "      <th>11</th>\n",
       "      <td>12</td>\n",
       "      <td>13406008</td>\n",
       "    </tr>\n",
       "  </tbody>\n",
       "</table>\n",
       "</div>"
      ],
      "text/plain": [
       "    last_updated_date   animals\n",
       "0                   1  41197277\n",
       "1                   2  36261763\n",
       "2                   3  39069507\n",
       "3                   4  37801921\n",
       "4                   5  39409250\n",
       "5                   6  38344905\n",
       "6                   7  39426520\n",
       "7                   8  39395075\n",
       "8                   9  38905000\n",
       "9                  10  39756113\n",
       "10                 11  13728353\n",
       "11                 12  13406008"
      ]
     },
     "execution_count": 37,
     "metadata": {},
     "output_type": "execute_result"
    }
   ],
   "source": [
    "#agrupamos los animales registrados por mes en 2016\n",
    "df_reg2016 = (df_2016.groupby(df[\"last_updated_date\"].dt.month)[\"animals\"].sum()).reset_index()\n",
    "df_reg2016"
   ]
  },
  {
   "cell_type": "code",
   "execution_count": 39,
   "id": "904d7194",
   "metadata": {},
   "outputs": [
    {
     "data": {
      "image/png": "[encoded data removed]",
      "text/plain": [
       "<Figure size 432x288 with 1 Axes>"
      ]
     },
     "metadata": {
      "needs_background": "light"
     },
     "output_type": "display_data"
    }
   ],
   "source": [
    "meses = list(calendar.month_name)[1:]\n",
    "plt.plot(df_reg2015[\"last_updated_date\"], df_reg2015[\"animals\"],\n",
    "         linewidth = 2,\n",
    "         marker = \"o\",\n",
    "         label = \"Year 2015\")\n",
    "\n",
    "plt.plot(df_reg2016[\"last_updated_date\"], df_reg2016[\"animals\"], \n",
    "         linewidth = 2,\n",
    "         marker = \"o\",\n",
    "         label = \"Year 2016\")\n",
    "\n",
    "plt.xlabel(\"Meses\")\n",
    "plt.ylabel(\"Registro total\")\n",
    "plt.xticks(df_reg2016[\"last_updated_date\"],meses, rotation = 45)\n",
    "plt.legend();"
   ]
  },
  {
   "cell_type": "code",
   "execution_count": 3,
   "id": "287e5ed7",
   "metadata": {},
   "outputs": [
    {
     "data": {
      "text/plain": [
       "Washington       272\n",
       "Houston          176\n",
       "New York City    155\n",
       "Dallas           135\n",
       "Hekou            123\n",
       "                ... \n",
       "Hengjian           1\n",
       "Oakville           1\n",
       "Tanzhou            1\n",
       "Hadapu Zhen        1\n",
       "Liren              1\n",
       "Name: city, Length: 8201, dtype: int64"
      ]
     },
     "execution_count": 3,
     "metadata": {},
     "output_type": "execute_result"
    }
   ],
   "source": [
    "df[\"city\"].value_counts()"
   ]
  }
 ],
 "metadata": {
  "kernelspec": {
   "display_name": "Python 3",
   "language": "python",
   "name": "python3"
  },
  "language_info": {
   "codemirror_mode": {
    "name": "ipython",
    "version": 3
   },
   "file_extension": ".py",
   "mimetype": "text/x-python",
   "name": "python",
   "nbconvert_exporter": "python",
   "pygments_lexer": "ipython3",
   "version": "3.10.8 (tags/v3.10.8:aaaf517, Oct 11 2022, 16:50:30) [MSC v.1933 64 bit (AMD64)]"
  },
  "vscode": {
   "interpreter": {
    "hash": "c718e6a9e46caa35f117066c694212e163a0a52fed88028be1fa1836126e487a"
   }
  }
 },
 "nbformat": 4,
 "nbformat_minor": 5
}
