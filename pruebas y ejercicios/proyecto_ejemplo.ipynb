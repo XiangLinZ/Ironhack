{
 "cells": [
  {
   "cell_type": "code",
   "execution_count": 2,
   "id": "b8b0dabe",
   "metadata": {},
   "outputs": [
    {
     "name": "stdout",
     "output_type": "stream",
     "text": [
      "Collecting fuzzywuzzy\n",
      "  Downloading fuzzywuzzy-0.18.0-py2.py3-none-any.whl (18 kB)\n",
      "Installing collected packages: fuzzywuzzy\n",
      "Successfully installed fuzzywuzzy-0.18.0\n"
     ]
    }
   ],
   "source": [
    "!pip install fuzzywuzzy"
   ]
  },
  {
   "cell_type": "code",
   "execution_count": 3,
   "id": "0487aa98",
   "metadata": {},
   "outputs": [
    {
     "name": "stderr",
     "output_type": "stream",
     "text": [
      "C:\\Users\\Lin\\anaconda3\\lib\\site-packages\\fuzzywuzzy\\fuzz.py:11: UserWarning: Using slow pure-python SequenceMatcher. Install python-Levenshtein to remove this warning\n",
      "  warnings.warn('Using slow pure-python SequenceMatcher. Install python-Levenshtein to remove this warning')\n"
     ]
    }
   ],
   "source": [
    "import pandas as pd\n",
    "import numpy as np\n",
    "import matplotlib.pyplot as plt\n",
    "import seaborn as sns\n",
    "import plotly.express as px\n",
    "from collections import Counter\n",
    "from fuzzywuzzy import process, fuzz\n",
    "import pickle"
   ]
  },
  {
   "cell_type": "code",
   "execution_count": 6,
   "id": "049c3b40",
   "metadata": {},
   "outputs": [],
   "source": [
    "import requests\n",
    "from time import sleep\n",
    "\n",
    "from selenium import webdriver\n",
    "from webdriver_manager.chrome import ChromeDriverManager\n",
    "from selenium.webdriver.common.keys import Keys\n",
    "from selenium.webdriver.chrome.options import Options\n",
    "\n",
    "import tqdm\n",
    "\n",
    "\n",
    "import warnings\n",
    "warnings.filterwarnings('ignore')"
   ]
  },
  {
   "cell_type": "code",
   "execution_count": 4,
   "id": "251a09af",
   "metadata": {},
   "outputs": [],
   "source": [
    "with open(\"datos/top_ten_actor.pkl\", \"rb\") as act:\n",
    "    actores = pickle.load(act)\n",
    "\n",
    "with open(\"datos/top_ten_director.pkl\", \"rb\") as dire:\n",
    "    directores = pickle.load(dire)"
   ]
  },
  {
   "cell_type": "code",
   "execution_count": 36,
   "id": "672a5f3c",
   "metadata": {},
   "outputs": [],
   "source": [
    "opciones= Options()\n",
    "opciones.add_experimental_option('excludeSwitches', ['enable-automation'])\n",
    "opciones.add_experimental_option('useAutomationExtension', False)\n",
    "opciones.add_argument('--start-maximized')\n",
    "opciones.add_argument('user.data-dir=selenium') \n",
    "opciones.add_argument('--incognito')"
   ]
  },
  {
   "cell_type": "code",
   "execution_count": 64,
   "id": "0a45eb88",
   "metadata": {},
   "outputs": [
    {
     "ename": "NoSuchElementException",
     "evalue": "Message: no such element: Unable to locate element: {\"method\":\"css selector\",\"selector\":\"#react-autowhatever-1--item-0 > a > div.sc-d2740ffb-1.duOqOv\"}\n  (Session info: chrome=108.0.5359.99)\nStacktrace:\nBacktrace:\n\t(No symbol) [0x0062F243]\n\t(No symbol) [0x005B7FD1]\n\t(No symbol) [0x004AD04D]\n\t(No symbol) [0x004DC0B0]\n\t(No symbol) [0x004DC22B]\n\t(No symbol) [0x0050E612]\n\t(No symbol) [0x004F85D4]\n\t(No symbol) [0x0050C9EB]\n\t(No symbol) [0x004F8386]\n\t(No symbol) [0x004D163C]\n\t(No symbol) [0x004D269D]\n\tGetHandleVerifier [0x008C9A22+2655074]\n\tGetHandleVerifier [0x008BCA24+2601828]\n\tGetHandleVerifier [0x006D8C0A+619850]\n\tGetHandleVerifier [0x006D7830+614768]\n\t(No symbol) [0x005C05FC]\n\t(No symbol) [0x005C5968]\n\t(No symbol) [0x005C5A55]\n\t(No symbol) [0x005D051B]\n\tBaseThreadInitThunk [0x767FFEF9+25]\n\tRtlGetAppContainerNamedObjectPath [0x775F7BBE+286]\n\tRtlGetAppContainerNamedObjectPath [0x775F7B8E+238]\n",
     "output_type": "error",
     "traceback": [
      "\u001b[1;31m---------------------------------------------------------------------------\u001b[0m",
      "\u001b[1;31mNoSuchElementException\u001b[0m                    Traceback (most recent call last)",
      "Input \u001b[1;32mIn [64]\u001b[0m, in \u001b[0;36m<cell line: 6>\u001b[1;34m()\u001b[0m\n\u001b[0;32m      4\u001b[0m sleep(\u001b[38;5;241m3\u001b[39m)\n\u001b[0;32m      5\u001b[0m driver\u001b[38;5;241m.\u001b[39mfind_element(\u001b[38;5;124m\"\u001b[39m\u001b[38;5;124mcss selector\u001b[39m\u001b[38;5;124m\"\u001b[39m, \u001b[38;5;124m\"\u001b[39m\u001b[38;5;124m#suggestion-search\u001b[39m\u001b[38;5;124m\"\u001b[39m)\u001b[38;5;241m.\u001b[39msend_keys(nombre)\n\u001b[1;32m----> 6\u001b[0m \u001b[43mdriver\u001b[49m\u001b[38;5;241;43m.\u001b[39;49m\u001b[43mfind_element\u001b[49m\u001b[43m(\u001b[49m\u001b[38;5;124;43m\"\u001b[39;49m\u001b[38;5;124;43mcss selector\u001b[39;49m\u001b[38;5;124;43m\"\u001b[39;49m\u001b[43m,\u001b[49m\u001b[43m \u001b[49m\u001b[38;5;124;43m\"\u001b[39;49m\u001b[38;5;124;43m#react-autowhatever-1--item-0 > a > div.sc-d2740ffb-1.duOqOv\u001b[39;49m\u001b[38;5;124;43m\"\u001b[39;49m\u001b[43m)\u001b[49m\u001b[38;5;241m.\u001b[39mclick\n\u001b[0;32m      7\u001b[0m sleep(\u001b[38;5;241m5\u001b[39m)\n\u001b[0;32m      8\u001b[0m nomb \u001b[38;5;241m=\u001b[39m driver\u001b[38;5;241m.\u001b[39mfind_element(\u001b[38;5;124m\"\u001b[39m\u001b[38;5;124mcss selector\u001b[39m\u001b[38;5;124m\"\u001b[39m, \u001b[38;5;124m\"\u001b[39m\u001b[38;5;124m#__next > main > div > section.ipc-page-background.ipc-page-background--base.sc-9b716f3b-0.hWwhTB > section > div:nth-child(4) > section > section > div.sc-d3e8adc5-3.kIpvxT > div > h1 > span.sc-856aec89-1.dViDAx\u001b[39m\u001b[38;5;124m\"\u001b[39m)\u001b[38;5;241m.\u001b[39mtext\n",
      "File \u001b[1;32m~\\anaconda3\\lib\\site-packages\\selenium\\webdriver\\remote\\webdriver.py:861\u001b[0m, in \u001b[0;36mWebDriver.find_element\u001b[1;34m(self, by, value)\u001b[0m\n\u001b[0;32m    858\u001b[0m     by \u001b[38;5;241m=\u001b[39m By\u001b[38;5;241m.\u001b[39mCSS_SELECTOR\n\u001b[0;32m    859\u001b[0m     value \u001b[38;5;241m=\u001b[39m \u001b[38;5;124m'\u001b[39m\u001b[38;5;124m[name=\u001b[39m\u001b[38;5;124m\"\u001b[39m\u001b[38;5;132;01m%s\u001b[39;00m\u001b[38;5;124m\"\u001b[39m\u001b[38;5;124m]\u001b[39m\u001b[38;5;124m'\u001b[39m \u001b[38;5;241m%\u001b[39m value\n\u001b[1;32m--> 861\u001b[0m \u001b[38;5;28;01mreturn\u001b[39;00m \u001b[38;5;28;43mself\u001b[39;49m\u001b[38;5;241;43m.\u001b[39;49m\u001b[43mexecute\u001b[49m\u001b[43m(\u001b[49m\u001b[43mCommand\u001b[49m\u001b[38;5;241;43m.\u001b[39;49m\u001b[43mFIND_ELEMENT\u001b[49m\u001b[43m,\u001b[49m\u001b[43m \u001b[49m\u001b[43m{\u001b[49m\u001b[38;5;124;43m\"\u001b[39;49m\u001b[38;5;124;43musing\u001b[39;49m\u001b[38;5;124;43m\"\u001b[39;49m\u001b[43m:\u001b[49m\u001b[43m \u001b[49m\u001b[43mby\u001b[49m\u001b[43m,\u001b[49m\u001b[43m \u001b[49m\u001b[38;5;124;43m\"\u001b[39;49m\u001b[38;5;124;43mvalue\u001b[39;49m\u001b[38;5;124;43m\"\u001b[39;49m\u001b[43m:\u001b[49m\u001b[43m \u001b[49m\u001b[43mvalue\u001b[49m\u001b[43m}\u001b[49m\u001b[43m)\u001b[49m[\u001b[38;5;124m\"\u001b[39m\u001b[38;5;124mvalue\u001b[39m\u001b[38;5;124m\"\u001b[39m]\n",
      "File \u001b[1;32m~\\anaconda3\\lib\\site-packages\\selenium\\webdriver\\remote\\webdriver.py:444\u001b[0m, in \u001b[0;36mWebDriver.execute\u001b[1;34m(self, driver_command, params)\u001b[0m\n\u001b[0;32m    442\u001b[0m response \u001b[38;5;241m=\u001b[39m \u001b[38;5;28mself\u001b[39m\u001b[38;5;241m.\u001b[39mcommand_executor\u001b[38;5;241m.\u001b[39mexecute(driver_command, params)\n\u001b[0;32m    443\u001b[0m \u001b[38;5;28;01mif\u001b[39;00m response:\n\u001b[1;32m--> 444\u001b[0m     \u001b[38;5;28;43mself\u001b[39;49m\u001b[38;5;241;43m.\u001b[39;49m\u001b[43merror_handler\u001b[49m\u001b[38;5;241;43m.\u001b[39;49m\u001b[43mcheck_response\u001b[49m\u001b[43m(\u001b[49m\u001b[43mresponse\u001b[49m\u001b[43m)\u001b[49m\n\u001b[0;32m    445\u001b[0m     response[\u001b[38;5;124m\"\u001b[39m\u001b[38;5;124mvalue\u001b[39m\u001b[38;5;124m\"\u001b[39m] \u001b[38;5;241m=\u001b[39m \u001b[38;5;28mself\u001b[39m\u001b[38;5;241m.\u001b[39m_unwrap_value(response\u001b[38;5;241m.\u001b[39mget(\u001b[38;5;124m\"\u001b[39m\u001b[38;5;124mvalue\u001b[39m\u001b[38;5;124m\"\u001b[39m, \u001b[38;5;28;01mNone\u001b[39;00m))\n\u001b[0;32m    446\u001b[0m     \u001b[38;5;28;01mreturn\u001b[39;00m response\n",
      "File \u001b[1;32m~\\anaconda3\\lib\\site-packages\\selenium\\webdriver\\remote\\errorhandler.py:249\u001b[0m, in \u001b[0;36mErrorHandler.check_response\u001b[1;34m(self, response)\u001b[0m\n\u001b[0;32m    247\u001b[0m         alert_text \u001b[38;5;241m=\u001b[39m value[\u001b[38;5;124m\"\u001b[39m\u001b[38;5;124malert\u001b[39m\u001b[38;5;124m\"\u001b[39m]\u001b[38;5;241m.\u001b[39mget(\u001b[38;5;124m\"\u001b[39m\u001b[38;5;124mtext\u001b[39m\u001b[38;5;124m\"\u001b[39m)\n\u001b[0;32m    248\u001b[0m     \u001b[38;5;28;01mraise\u001b[39;00m exception_class(message, screen, stacktrace, alert_text)  \u001b[38;5;66;03m# type: ignore[call-arg]  # mypy is not smart enough here\u001b[39;00m\n\u001b[1;32m--> 249\u001b[0m \u001b[38;5;28;01mraise\u001b[39;00m exception_class(message, screen, stacktrace)\n",
      "\u001b[1;31mNoSuchElementException\u001b[0m: Message: no such element: Unable to locate element: {\"method\":\"css selector\",\"selector\":\"#react-autowhatever-1--item-0 > a > div.sc-d2740ffb-1.duOqOv\"}\n  (Session info: chrome=108.0.5359.99)\nStacktrace:\nBacktrace:\n\t(No symbol) [0x0062F243]\n\t(No symbol) [0x005B7FD1]\n\t(No symbol) [0x004AD04D]\n\t(No symbol) [0x004DC0B0]\n\t(No symbol) [0x004DC22B]\n\t(No symbol) [0x0050E612]\n\t(No symbol) [0x004F85D4]\n\t(No symbol) [0x0050C9EB]\n\t(No symbol) [0x004F8386]\n\t(No symbol) [0x004D163C]\n\t(No symbol) [0x004D269D]\n\tGetHandleVerifier [0x008C9A22+2655074]\n\tGetHandleVerifier [0x008BCA24+2601828]\n\tGetHandleVerifier [0x006D8C0A+619850]\n\tGetHandleVerifier [0x006D7830+614768]\n\t(No symbol) [0x005C05FC]\n\t(No symbol) [0x005C5968]\n\t(No symbol) [0x005C5A55]\n\t(No symbol) [0x005D051B]\n\tBaseThreadInitThunk [0x767FFEF9+25]\n\tRtlGetAppContainerNamedObjectPath [0x775F7BBE+286]\n\tRtlGetAppContainerNamedObjectPath [0x775F7B8E+238]\n"
     ]
    }
   ],
   "source": [
    "nombre = 'Adam Sandler'\n",
    "driver = webdriver.Chrome(ChromeDriverManager().install())\n",
    "driver.get(\"https://www.imdb.com/\")\n",
    "sleep(3)\n",
    "driver.find_element(\"css selector\", \"#suggestion-search\").send_keys(nombre)\n",
    "driver.find_element(\"css selector\", \"#react-autowhatever-1--item-0 > a > div.sc-d2740ffb-1.duOqOv\").click\n",
    "sleep(5)\n",
    "nomb = driver.find_element(\"css selector\", \"#__next > main > div > section.ipc-page-background.ipc-page-background--base.sc-9b716f3b-0.hWwhTB > section > div:nth-child(4) > section > section > div.sc-d3e8adc5-3.kIpvxT > div > h1 > span.sc-856aec89-1.dViDAx\").text\n",
    "hacestr = driver.find_element(\"css selector\", \"#__next > main > div > section.ipc-page-background.ipc-page-background--base.sc-9b716f3b-0.hWwhTB > section > div:nth-child(4) > section > section > div.sc-d3e8adc5-3.kIpvxT > div > ul\").text\n",
    "hace = hacestr.split(\"\\n\")\n",
    "conocidostr = driver.find_element(\"css selector\", '#__next > main > div > section.ipc-page-background.ipc-page-background--base.sc-9b716f3b-0.hWwhTB > div > section > div > div.sc-4253d404-1.hwVyrY.ipc-page-grid__item.ipc-page-grid__item--span-2 > div.celwidget > section:nth-child(1)').text\n",
    "conocido = conocidostr.split(\"\\n\")[1::2]\n",
    "creditosstr = driver.find_element(\"css selector\", \"#__next > main > div > section.ipc-page-background.ipc-page-background--base.sc-9b716f3b-0.hWwhTB > div > section > div > div.sc-4253d404-1.hwVyrY.ipc-page-grid__item.ipc-page-grid__item--span-2 > div.celwidget > section:nth-child(2) > div.ipc-chip-list--base.ipc-chip-list.ipc-chip-list--nowrap.sc-2919cd96-0.hNbCTu.nm_flmg_chips > div.ipc-chip-list__scroller\")\n",
    "\n",
    "sleep(10)\n",
    "driver.find_element(\"css selector\", \"#__next > main > div > section.ipc-page-background.ipc-page-background--base.sc-9b716f3b-0.hWwhTB > section > div:nth-child(4) > section > section > div.sc-383649c6-0.fOBDDX > div > div:nth-child(2) > ul > li:nth-child(1) > a\").click\n"
   ]
  },
  {
   "cell_type": "code",
   "execution_count": 53,
   "id": "46191925",
   "metadata": {},
   "outputs": [],
   "source": []
  },
  {
   "cell_type": "code",
   "execution_count": 54,
   "id": "5cabd58a",
   "metadata": {},
   "outputs": [
    {
     "data": {
      "text/plain": [
       "['El aguador',\n",
       " 'Bobby Boucher',\n",
       " 'El chico ideal',\n",
       " 'Robbie Hart',\n",
       " 'Un papá genial',\n",
       " 'Sonny Koufax',\n",
       " 'Little Nicky',\n",
       " 'Nicky']"
      ]
     },
     "execution_count": 54,
     "metadata": {},
     "output_type": "execute_result"
    }
   ],
   "source": []
  },
  {
   "cell_type": "code",
   "execution_count": null,
   "id": "fdf4fd46",
   "metadata": {},
   "outputs": [],
   "source": []
  }
 ],
 "metadata": {
  "kernelspec": {
   "display_name": "Python 3 (ipykernel)",
   "language": "python",
   "name": "python3"
  },
  "language_info": {
   "codemirror_mode": {
    "name": "ipython",
    "version": 3
   },
   "file_extension": ".py",
   "mimetype": "text/x-python",
   "name": "python",
   "nbconvert_exporter": "python",
   "pygments_lexer": "ipython3",
   "version": "3.9.12"
  }
 },
 "nbformat": 4,
 "nbformat_minor": 5
}
