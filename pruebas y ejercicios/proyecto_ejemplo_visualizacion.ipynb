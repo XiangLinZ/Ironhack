{
 "cells": [
  {
   "cell_type": "code",
   "execution_count": 1,
   "id": "c53b5779",
   "metadata": {
    "scrolled": true
   },
   "outputs": [
    {
     "name": "stdout",
     "output_type": "stream",
     "text": [
      "Collecting wordcloud\n",
      "  Downloading wordcloud-1.8.2.2-cp39-cp39-win_amd64.whl (153 kB)\n",
      "Requirement already satisfied: matplotlib in c:\\users\\lin\\anaconda3\\lib\\site-packages (from wordcloud) (3.5.1)\n",
      "Requirement already satisfied: pillow in c:\\users\\lin\\anaconda3\\lib\\site-packages (from wordcloud) (9.0.1)\n",
      "Requirement already satisfied: numpy>=1.6.1 in c:\\users\\lin\\anaconda3\\lib\\site-packages (from wordcloud) (1.21.5)\n",
      "Requirement already satisfied: cycler>=0.10 in c:\\users\\lin\\anaconda3\\lib\\site-packages (from matplotlib->wordcloud) (0.11.0)\n",
      "Requirement already satisfied: fonttools>=4.22.0 in c:\\users\\lin\\anaconda3\\lib\\site-packages (from matplotlib->wordcloud) (4.25.0)\n",
      "Requirement already satisfied: kiwisolver>=1.0.1 in c:\\users\\lin\\anaconda3\\lib\\site-packages (from matplotlib->wordcloud) (1.3.2)\n",
      "Requirement already satisfied: packaging>=20.0 in c:\\users\\lin\\anaconda3\\lib\\site-packages (from matplotlib->wordcloud) (21.3)\n",
      "Requirement already satisfied: pyparsing>=2.2.1 in c:\\users\\lin\\anaconda3\\lib\\site-packages (from matplotlib->wordcloud) (3.0.4)\n",
      "Requirement already satisfied: python-dateutil>=2.7 in c:\\users\\lin\\anaconda3\\lib\\site-packages (from matplotlib->wordcloud) (2.8.2)\n",
      "Requirement already satisfied: six>=1.5 in c:\\users\\lin\\anaconda3\\lib\\site-packages (from python-dateutil>=2.7->matplotlib->wordcloud) (1.16.0)\n",
      "Installing collected packages: wordcloud\n",
      "Successfully installed wordcloud-1.8.2.2\n"
     ]
    }
   ],
   "source": [
    "!pip install wordcloud"
   ]
  },
  {
   "cell_type": "code",
   "execution_count": 2,
   "id": "f2446e03",
   "metadata": {},
   "outputs": [],
   "source": [
    "import pandas as pd\n",
    "import matplotlib.pyplot as plt\n",
    "import seaborn as sns\n",
    "from datetime import datetime\n",
    "from wordcloud import WordCloud, STOPWORDS\n",
    "\n",
    "\n",
    "from PIL import Image\n",
    "import numpy as np"
   ]
  },
  {
   "cell_type": "code",
   "execution_count": 50,
   "id": "69998f51",
   "metadata": {},
   "outputs": [
    {
     "data": {
      "text/html": [
       "<div>\n",
       "<style scoped>\n",
       "    .dataframe tbody tr th:only-of-type {\n",
       "        vertical-align: middle;\n",
       "    }\n",
       "\n",
       "    .dataframe tbody tr th {\n",
       "        vertical-align: top;\n",
       "    }\n",
       "\n",
       "    .dataframe thead th {\n",
       "        text-align: right;\n",
       "    }\n",
       "</style>\n",
       "<table border=\"1\" class=\"dataframe\">\n",
       "  <thead>\n",
       "    <tr style=\"text-align: right;\">\n",
       "      <th></th>\n",
       "      <th>name</th>\n",
       "      <th>image</th>\n",
       "      <th>description</th>\n",
       "      <th>positions</th>\n",
       "      <th>known_for</th>\n",
       "      <th>Banda sonora</th>\n",
       "      <th>Guion y continuidad</th>\n",
       "      <th>Composición</th>\n",
       "      <th>sonido de archivo</th>\n",
       "      <th>Música</th>\n",
       "      <th>Como sí mismos</th>\n",
       "      <th>Agradecimientos</th>\n",
       "      <th>metraje de archivo</th>\n",
       "      <th>Producción</th>\n",
       "      <th>Dirección</th>\n",
       "      <th>Equipos adicionales</th>\n",
       "    </tr>\n",
       "  </thead>\n",
       "  <tbody>\n",
       "    <tr>\n",
       "      <th>0</th>\n",
       "      <td>Adam Sandler</td>\n",
       "      <td>https://m.media-amazon.com/images/M/MV5BMjQyNz...</td>\n",
       "      <td>Adam Richard Sandler was born September 9, 196...</td>\n",
       "      <td>Reparto Producción Guion</td>\n",
       "      <td>El aguador</td>\n",
       "      <td>34.0</td>\n",
       "      <td>7.0</td>\n",
       "      <td>3.0</td>\n",
       "      <td>2.0</td>\n",
       "      <td>1.0</td>\n",
       "      <td>256.0</td>\n",
       "      <td>10.0</td>\n",
       "      <td>80.0</td>\n",
       "      <td>NaN</td>\n",
       "      <td>NaN</td>\n",
       "      <td>NaN</td>\n",
       "    </tr>\n",
       "    <tr>\n",
       "      <th>1</th>\n",
       "      <td>Adam Sandler</td>\n",
       "      <td>https://m.media-amazon.com/images/M/MV5BMjQyNz...</td>\n",
       "      <td>Adam Richard Sandler was born September 9, 196...</td>\n",
       "      <td>Reparto Producción Guion</td>\n",
       "      <td>6,1</td>\n",
       "      <td>34.0</td>\n",
       "      <td>7.0</td>\n",
       "      <td>3.0</td>\n",
       "      <td>2.0</td>\n",
       "      <td>1.0</td>\n",
       "      <td>256.0</td>\n",
       "      <td>10.0</td>\n",
       "      <td>80.0</td>\n",
       "      <td>NaN</td>\n",
       "      <td>NaN</td>\n",
       "      <td>NaN</td>\n",
       "    </tr>\n",
       "  </tbody>\n",
       "</table>\n",
       "</div>"
      ],
      "text/plain": [
       "           name                                              image  \\\n",
       "0  Adam Sandler  https://m.media-amazon.com/images/M/MV5BMjQyNz...   \n",
       "1  Adam Sandler  https://m.media-amazon.com/images/M/MV5BMjQyNz...   \n",
       "\n",
       "                                         description  \\\n",
       "0  Adam Richard Sandler was born September 9, 196...   \n",
       "1  Adam Richard Sandler was born September 9, 196...   \n",
       "\n",
       "                  positions   known_for  Banda sonora  Guion y continuidad  \\\n",
       "0  Reparto Producción Guion  El aguador          34.0                  7.0   \n",
       "1  Reparto Producción Guion         6,1          34.0                  7.0   \n",
       "\n",
       "   Composición  sonido de archivo  Música  Como sí mismos  Agradecimientos  \\\n",
       "0          3.0                2.0     1.0           256.0             10.0   \n",
       "1          3.0                2.0     1.0           256.0             10.0   \n",
       "\n",
       "   metraje de archivo  Producción  Dirección  Equipos adicionales  \n",
       "0                80.0         NaN        NaN                  NaN  \n",
       "1                80.0         NaN        NaN                  NaN  "
      ]
     },
     "execution_count": 50,
     "metadata": {},
     "output_type": "execute_result"
    }
   ],
   "source": [
    "df = pd.read_csv(\"datos/top10_actors.csv\", sep = \";\")\n",
    "df.head(2)"
   ]
  },
  {
   "cell_type": "code",
   "execution_count": 15,
   "id": "4b63665a",
   "metadata": {},
   "outputs": [
    {
     "data": {
      "text/plain": [
       "Index(['name', 'image', 'description', 'positions', 'known_for',\n",
       "       'Banda sonora', 'Guion y continuidad', 'Composición',\n",
       "       'sonido de archivo', 'Música', 'Como sí mismos', 'Agradecimientos',\n",
       "       'metraje de archivo', 'Producción', 'Dirección', 'Equipos adicionales'],\n",
       "      dtype='object')"
      ]
     },
     "execution_count": 15,
     "metadata": {},
     "output_type": "execute_result"
    }
   ],
   "source": [
    "df.columns"
   ]
  },
  {
   "cell_type": "code",
   "execution_count": 43,
   "id": "7508508d",
   "metadata": {},
   "outputs": [
    {
     "name": "stdout",
     "output_type": "stream",
     "text": [
      "Elige un actor ['Adam Sandler' 'Maya Rudolph' 'Andrew Bachelor' 'Keegan-Michael Key'\n",
      " 'Robbie Amell' 'Jacki Weaver' 'Rob Schneider' 'Nick Swardson'\n",
      " 'Lakeith Stanfield' 'Zachary Quinto']Adam Sandler\n"
     ]
    },
    {
     "data": {
      "image/png": "[encoded data removed]",
      "text/plain": [
       "<Figure size 432x288 with 1 Axes>"
      ]
     },
     "metadata": {
      "needs_background": "light"
     },
     "output_type": "display_data"
    }
   ],
   "source": [
    "#Generador de gráficas de actores\n",
    "df_ejercicio = df.drop([\"image\", \"description\", \"positions\", \"known_for\", \"Como sí mismos\"], axis = 1).drop_duplicates(subset=[\"name\"])\n",
    "nombre = input(f\"Elige un actor {df_ejercicio['name'].unique()}\")\n",
    "df_actor = df_ejercicio[df_ejercicio[\"name\"] == nombre].drop(\"name\", axis = 1).T.reset_index().dropna()\n",
    "df_actor.columns = [\"créditos\", \"conteo\"]\n",
    "df_actor.sort_values(by = \"conteo\", ascending = False, inplace = True)\n",
    "sns.barplot(data = df_actor, x = \"créditos\", y = \"conteo\", palette = \"mako\")\n",
    "plt.title(nombre)\n",
    "plt.xticks(rotation = 45);"
   ]
  },
  {
   "cell_type": "code",
   "execution_count": 83,
   "id": "4a32706f",
   "metadata": {},
   "outputs": [
    {
     "data": {
      "image/png": "[encoded data removed]",
      "text/plain": [
       "<Figure size 1080x432 with 1 Axes>"
      ]
     },
     "metadata": {
      "needs_background": "light"
     },
     "output_type": "display_data"
    }
   ],
   "source": [
    "#Ejemplo tocho de poner cifras encima de las barras\n",
    "df2 = pd.read_csv(\"datos/netflix_clean.csv\")\n",
    "df2_clean = df2.groupby([\"genre2\"])[\"title\"].count().reset_index().sort_values(by = \"title\", ascending = False)\n",
    "\n",
    "plt.figure(figsize = (15, 6))\n",
    "fig = sns.barplot(data = df2_clean, x = \"genre2\", y = \"title\")\n",
    "ejex = df2_clean[\"genre2\"].unique().tolist() # Lista de géneros\n",
    "ejey = df2_clean[\"title\"].unique().tolist() # Lista de valores\n",
    "plt.xlabel(\"género\")\n",
    "plt.ylabel(\"películas\")\n",
    "for etiqueta, valor in zip (range(len(ejex)), ejey): #hacemos zip de los dos valores\n",
    "    fig.annotate(valor,\n",
    "                (etiqueta, valor + 1),\n",
    "                fontweight = \"bold\",\n",
    "                horizontalalignment = \"center\")\n",
    " # poner los valores en la gráfica\n",
    "    ;\n",
    "    "
   ]
  },
  {
   "cell_type": "code",
   "execution_count": null,
   "id": "d38a527e",
   "metadata": {},
   "outputs": [],
   "source": []
  }
 ],
 "metadata": {
  "kernelspec": {
   "display_name": "Python 3 (ipykernel)",
   "language": "python",
   "name": "python3"
  },
  "language_info": {
   "codemirror_mode": {
    "name": "ipython",
    "version": 3
   },
   "file_extension": ".py",
   "mimetype": "text/x-python",
   "name": "python",
   "nbconvert_exporter": "python",
   "pygments_lexer": "ipython3",
   "version": "3.9.12"
  }
 },
 "nbformat": 4,
 "nbformat_minor": 5
}
