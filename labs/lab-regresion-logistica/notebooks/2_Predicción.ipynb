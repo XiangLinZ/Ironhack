{
 "cells": [
  {
   "cell_type": "code",
   "execution_count": 15,
   "metadata": {},
   "outputs": [],
   "source": [
    "import pickle\n",
    "import pandas as pd\n",
    "import numpy as np"
   ]
  },
  {
   "cell_type": "code",
   "execution_count": 19,
   "metadata": {},
   "outputs": [],
   "source": [
    "with open('../datos/encodingaccounts.pkl', 'rb') as accounts:\n",
    "    encoding_accounts = pickle.load(accounts)\n",
    "\n",
    "with open('../datos/encodingcred_rating.pkl', 'rb') as cred_rating:\n",
    "    encoding_cred_rating = pickle.load(cred_rating)\n",
    "\n",
    "with open('../datos/encodingcards.pkl', 'rb') as cards:\n",
    "    encoding_cards = pickle.load(cards)\n",
    "\n",
    "with open('../datos/encodinghomes.pkl', 'rb') as homes:\n",
    "    encoding_homes = pickle.load(homes)\n",
    "\n",
    "with open('../datos/encodinghousehold.pkl', 'rb') as household:\n",
    "    encoding_household = pickle.load(household)\n",
    "\n",
    "with open('../datos/encodingincome_lv.pkl', 'rb') as income_lv:\n",
    "    encoding_income_lv = pickle.load(income_lv)\n",
    "\n",
    "with open('../datos/encodingmail_type.pkl', 'rb') as mail_type:\n",
    "    encoding_mail_type = pickle.load(mail_type)\n",
    "\n",
    "with open('../datos/encodingowner.pkl', 'rb') as owner:\n",
    "    encoding_owner = pickle.load(owner)\n",
    "\n",
    "with open('../datos/encodingprotection.pkl', 'rb') as protection:\n",
    "    encoding_protection = pickle.load(protection)\n",
    "\n",
    "with open('../datos/encodingreward.pkl', 'rb') as reward:\n",
    "    encoding_reward = pickle.load(reward)\n",
    "\n",
    "with open('../datos/estandarizacion.pkl', 'rb') as estandarizacion:\n",
    "    estandarizacion = pickle.load(estandarizacion)\n",
    "\n",
    "with open('../datos/mejor_modelo_gradient.pkl', 'rb') as modelo:\n",
    "    modelo_gradient = pickle.load(modelo)\n",
    "\n",
    "with open('../datos/knn2.pkl', 'rb') as modelo2:\n",
    "    modelo_knn2 = pickle.load(modelo2)"
   ]
  },
  {
   "cell_type": "code",
   "execution_count": 20,
   "metadata": {},
   "outputs": [],
   "source": [
    "reward_orden = [\"Cash Back\", \"Points\", \"Air Miles\"]\n",
    "mail_orden = [\"Letter\", \"Postcard\"]\n",
    "income_orden = [\"High\", \"Low\", \"Medium\"]\n",
    "accounts_orden = [\"3\", \"2\", \"1\"]\n",
    "protection_orden = [\"No\", \"Yes\"]\n",
    "cred_order = ['High', 'Medium', 'Low']\n",
    "cards_order = [\"4\", \"3\", \"1\", \"2\"]\n",
    "homes_order = [\"3\", \"2\", \"1\"]\n",
    "household_order = [\"bajo\", \"medio\", \"alto\"]\n",
    "owner_order = ['No', 'Yes']\n",
    "dic_household = {\"1\" : \"bajo\", \"2\": \"medio\", \"3\": \"alto\", \"4\": \"alto\", \"5\" : \"medio\",\n",
    "                \"6\": \"bajo\", \"7\": \"bajo\", \"8\": \"bajo\", \"9\": \"bajo\"}"
   ]
  },
  {
   "cell_type": "code",
   "execution_count": 21,
   "metadata": {},
   "outputs": [],
   "source": [
    "dic_household = {\"1\" : \"bajo\", \"2\": \"medio\", \"3\": \"alto\", \"4\": \"alto\", \"5\" : \"medio\",\n",
    "                \"6\": \"bajo\", \"7\": \"bajo\", \"8\": \"bajo\", \"9\": \"bajo\"}\n",
    "resultados = {\n",
    "\"reward\" : str(input(\"¿Qué tipo de programa de recompensa tiene? ¿'Cash Back', 'Points' or 'Air Miles'?\")),\n",
    "\"mail_type\" : str(input(\"¿'Letter' or 'Postcard'?\")),\n",
    "\"income_lv\" : str(input(\"¿Nivel de ingresos?¿'High', 'Low' or 'Medium'?\")),\n",
    "\"accounts\" : str(input(\"¿ cuántas cuentas no de tarjeta de crédito tiene el cliente? Entre 1 y 3.\")),\n",
    "\"protection\" : str(input(\"¿Tiene protección?¿'Yes' or 'No'?\")),\n",
    "\"cred_rating\" : str(input(\"¿Nivel de credit rating?¿'Low', 'Medium' or 'High'?\")),\n",
    "\"cards\" : str(input(\"¿Número de tarjetas de crédito poseídas en el banco? Entre 1 y 4.\")),\n",
    "\"homes\" : str(input(\"¿Número de viviendas poseídas por el cliente? Entre 1 y 3.\" )),\n",
    "\"household\" : dic_household[str(input(\"¿Número de individuos en la familia? Entre 1 y 9.\"))],\n",
    "\"owner\" : str(input(\"¿El cliente es propietario de su hogar?¿'Yes' or 'No' ?\")),\n",
    "\"balanceQ1\" : float(input(\"¿BalanceQ1?\")),\n",
    "\"balanceQ2\" : float(input(\"¿BalanceQ2?\")),\n",
    "\"balanceQ3\" : float(input(\"¿BalanceQ3?\")),\n",
    "\"balanceQ4\" : float(input(\"¿BalanceQ4?\")),\n",
    "\"balance\" : float(input(\"¿Balance?\"))}"
   ]
  },
  {
   "cell_type": "code",
   "execution_count": 22,
   "metadata": {},
   "outputs": [
    {
     "data": {
      "text/html": [
       "<div>\n",
       "<style scoped>\n",
       "    .dataframe tbody tr th:only-of-type {\n",
       "        vertical-align: middle;\n",
       "    }\n",
       "\n",
       "    .dataframe tbody tr th {\n",
       "        vertical-align: top;\n",
       "    }\n",
       "\n",
       "    .dataframe thead th {\n",
       "        text-align: right;\n",
       "    }\n",
       "</style>\n",
       "<table border=\"1\" class=\"dataframe\">\n",
       "  <thead>\n",
       "    <tr style=\"text-align: right;\">\n",
       "      <th></th>\n",
       "      <th>reward</th>\n",
       "      <th>mail_type</th>\n",
       "      <th>income_lv</th>\n",
       "      <th>accounts</th>\n",
       "      <th>protection</th>\n",
       "      <th>cred_rating</th>\n",
       "      <th>cards</th>\n",
       "      <th>homes</th>\n",
       "      <th>household</th>\n",
       "      <th>owner</th>\n",
       "      <th>balanceQ1</th>\n",
       "      <th>balanceQ2</th>\n",
       "      <th>balanceQ3</th>\n",
       "      <th>balanceQ4</th>\n",
       "      <th>balance</th>\n",
       "    </tr>\n",
       "  </thead>\n",
       "  <tbody>\n",
       "    <tr>\n",
       "      <th>0</th>\n",
       "      <td>Points</td>\n",
       "      <td>Letter</td>\n",
       "      <td>High</td>\n",
       "      <td>2</td>\n",
       "      <td>No</td>\n",
       "      <td>Medium</td>\n",
       "      <td>2</td>\n",
       "      <td>2</td>\n",
       "      <td>alto</td>\n",
       "      <td>Yes</td>\n",
       "      <td>1350.0</td>\n",
       "      <td>1350.0</td>\n",
       "      <td>1350.0</td>\n",
       "      <td>1350.0</td>\n",
       "      <td>1350.0</td>\n",
       "    </tr>\n",
       "  </tbody>\n",
       "</table>\n",
       "</div>"
      ],
      "text/plain": [
       "   reward mail_type income_lv accounts protection cred_rating cards homes  \\\n",
       "0  Points    Letter      High        2         No      Medium     2     2   \n",
       "\n",
       "  household owner  balanceQ1  balanceQ2  balanceQ3  balanceQ4  balance  \n",
       "0      alto   Yes     1350.0     1350.0     1350.0     1350.0   1350.0  "
      ]
     },
     "execution_count": 22,
     "metadata": {},
     "output_type": "execute_result"
    }
   ],
   "source": [
    "df_resultados = pd.DataFrame(resultados, index=[0])\n",
    "df_resultados"
   ]
  },
  {
   "cell_type": "code",
   "execution_count": 23,
   "metadata": {},
   "outputs": [
    {
     "data": {
      "text/plain": [
       "Index(['balanceQ1', 'balanceQ2', 'balanceQ3', 'balanceQ4', 'balance'], dtype='object')"
      ]
     },
     "execution_count": 23,
     "metadata": {},
     "output_type": "execute_result"
    }
   ],
   "source": [
    "columnas_numeric = df_resultados.select_dtypes(include = np.number).columns\n",
    "columnas_numeric\n"
   ]
  },
  {
   "cell_type": "code",
   "execution_count": 24,
   "metadata": {},
   "outputs": [
    {
     "data": {
      "text/html": [
       "<div>\n",
       "<style scoped>\n",
       "    .dataframe tbody tr th:only-of-type {\n",
       "        vertical-align: middle;\n",
       "    }\n",
       "\n",
       "    .dataframe tbody tr th {\n",
       "        vertical-align: top;\n",
       "    }\n",
       "\n",
       "    .dataframe thead th {\n",
       "        text-align: right;\n",
       "    }\n",
       "</style>\n",
       "<table border=\"1\" class=\"dataframe\">\n",
       "  <thead>\n",
       "    <tr style=\"text-align: right;\">\n",
       "      <th></th>\n",
       "      <th>balanceQ1</th>\n",
       "      <th>balanceQ2</th>\n",
       "      <th>balanceQ3</th>\n",
       "      <th>balanceQ4</th>\n",
       "      <th>balance</th>\n",
       "    </tr>\n",
       "  </thead>\n",
       "  <tbody>\n",
       "    <tr>\n",
       "      <th>0</th>\n",
       "      <td>0.942064</td>\n",
       "      <td>0.511979</td>\n",
       "      <td>0.471023</td>\n",
       "      <td>0.487923</td>\n",
       "      <td>0.762467</td>\n",
       "    </tr>\n",
       "  </tbody>\n",
       "</table>\n",
       "</div>"
      ],
      "text/plain": [
       "   balanceQ1  balanceQ2  balanceQ3  balanceQ4   balance\n",
       "0   0.942064   0.511979   0.471023   0.487923  0.762467"
      ]
     },
     "execution_count": 24,
     "metadata": {},
     "output_type": "execute_result"
    }
   ],
   "source": [
    "estandarizadas = pd.DataFrame(estandarizacion.transform(df_resultados[columnas_numeric]), columns = columnas_numeric)\n",
    "estandarizadas"
   ]
  },
  {
   "cell_type": "code",
   "execution_count": 25,
   "metadata": {},
   "outputs": [],
   "source": [
    "reward = pd.DataFrame(encoding_reward.transform(df_resultados[[\"reward\"]]), columns = [\"reward\"])\n",
    "mail_type = pd.DataFrame(encoding_mail_type.transform(df_resultados[[\"mail_type\"]]), columns = [\"mail_type\"])\n",
    "income_lv = pd.DataFrame(encoding_income_lv.transform(df_resultados[[\"income_lv\"]]), columns = [\"income_lv\"])\n",
    "accounts = pd.DataFrame(encoding_accounts.transform(df_resultados[[\"accounts\"]]), columns = [\"accounts\"])\n",
    "protection = pd.DataFrame(encoding_protection.transform(df_resultados[[\"protection\"]]), columns = [\"protection\"])\n",
    "cred_rating = pd.DataFrame(encoding_cred_rating.transform(df_resultados[[\"cred_rating\"]]), columns = [\"cred_rating\"])\n",
    "cards = pd.DataFrame(encoding_cards.transform(df_resultados[[\"cards\"]]), columns = [\"cards\"])\n",
    "homes = pd.DataFrame(encoding_homes.transform(df_resultados[[\"homes\"]]), columns = [\"homes\"])\n",
    "household = pd.DataFrame(encoding_household.transform(df_resultados[[\"household\"]]), columns = [\"household\"])\n",
    "owner = pd.DataFrame(encoding_owner.transform(df_resultados[[\"owner\"]]), columns = [\"owner\"])"
   ]
  },
  {
   "cell_type": "code",
   "execution_count": 26,
   "metadata": {},
   "outputs": [
    {
     "data": {
      "text/html": [
       "<div>\n",
       "<style scoped>\n",
       "    .dataframe tbody tr th:only-of-type {\n",
       "        vertical-align: middle;\n",
       "    }\n",
       "\n",
       "    .dataframe tbody tr th {\n",
       "        vertical-align: top;\n",
       "    }\n",
       "\n",
       "    .dataframe thead th {\n",
       "        text-align: right;\n",
       "    }\n",
       "</style>\n",
       "<table border=\"1\" class=\"dataframe\">\n",
       "  <thead>\n",
       "    <tr style=\"text-align: right;\">\n",
       "      <th></th>\n",
       "      <th>reward</th>\n",
       "      <th>mail_type</th>\n",
       "      <th>income_lv</th>\n",
       "      <th>accounts</th>\n",
       "      <th>protection</th>\n",
       "      <th>cred_rating</th>\n",
       "      <th>cards</th>\n",
       "      <th>homes</th>\n",
       "      <th>household</th>\n",
       "      <th>owner</th>\n",
       "      <th>balanceQ1</th>\n",
       "      <th>balanceQ2</th>\n",
       "      <th>balanceQ3</th>\n",
       "      <th>balanceQ4</th>\n",
       "      <th>balance</th>\n",
       "    </tr>\n",
       "  </thead>\n",
       "  <tbody>\n",
       "    <tr>\n",
       "      <th>0</th>\n",
       "      <td>1</td>\n",
       "      <td>0</td>\n",
       "      <td>0</td>\n",
       "      <td>1</td>\n",
       "      <td>0</td>\n",
       "      <td>1</td>\n",
       "      <td>3</td>\n",
       "      <td>1</td>\n",
       "      <td>2</td>\n",
       "      <td>1</td>\n",
       "      <td>0.942064</td>\n",
       "      <td>0.511979</td>\n",
       "      <td>0.471023</td>\n",
       "      <td>0.487923</td>\n",
       "      <td>0.762467</td>\n",
       "    </tr>\n",
       "  </tbody>\n",
       "</table>\n",
       "</div>"
      ],
      "text/plain": [
       "   reward  mail_type  income_lv  accounts  protection  cred_rating  cards  \\\n",
       "0       1          0          0         1           0            1      3   \n",
       "\n",
       "   homes  household  owner  balanceQ1  balanceQ2  balanceQ3  balanceQ4  \\\n",
       "0      1          2      1   0.942064   0.511979   0.471023   0.487923   \n",
       "\n",
       "    balance  \n",
       "0  0.762467  "
      ]
     },
     "execution_count": 26,
     "metadata": {},
     "output_type": "execute_result"
    }
   ],
   "source": [
    "df_final = pd.concat([reward, mail_type, income_lv, accounts, protection, cred_rating, cards, homes, household, owner, estandarizadas], axis = 1)\n",
    "df_final"
   ]
  },
  {
   "cell_type": "code",
   "execution_count": 30,
   "metadata": {},
   "outputs": [
    {
     "data": {
      "text/plain": [
       "array([0])"
      ]
     },
     "execution_count": 30,
     "metadata": {},
     "output_type": "execute_result"
    }
   ],
   "source": [
    "modelo_gradient.predict(df_final)\n"
   ]
  },
  {
   "cell_type": "code",
   "execution_count": 31,
   "metadata": {},
   "outputs": [
    {
     "data": {
      "text/plain": [
       "array([[0.65198046, 0.34801954]])"
      ]
     },
     "execution_count": 31,
     "metadata": {},
     "output_type": "execute_result"
    }
   ],
   "source": [
    "modelo_gradient.predict_proba(df_final)"
   ]
  },
  {
   "cell_type": "code",
   "execution_count": 29,
   "metadata": {},
   "outputs": [
    {
     "data": {
      "text/plain": [
       "array([1])"
      ]
     },
     "execution_count": 29,
     "metadata": {},
     "output_type": "execute_result"
    }
   ],
   "source": [
    "modelo_knn2.predict(df_final)"
   ]
  },
  {
   "cell_type": "code",
   "execution_count": 32,
   "metadata": {},
   "outputs": [
    {
     "data": {
      "text/plain": [
       "array([[0., 1.]])"
      ]
     },
     "execution_count": 32,
     "metadata": {},
     "output_type": "execute_result"
    }
   ],
   "source": [
    "modelo_knn2.predict_proba(df_final)"
   ]
  },
  {
   "cell_type": "code",
   "execution_count": null,
   "metadata": {},
   "outputs": [],
   "source": []
  }
 ],
 "metadata": {
  "kernelspec": {
   "display_name": "base",
   "language": "python",
   "name": "python3"
  },
  "language_info": {
   "codemirror_mode": {
    "name": "ipython",
    "version": 3
   },
   "file_extension": ".py",
   "mimetype": "text/x-python",
   "name": "python",
   "nbconvert_exporter": "python",
   "pygments_lexer": "ipython3",
   "version": "3.9.12"
  },
  "orig_nbformat": 4
 },
 "nbformat": 4,
 "nbformat_minor": 2
}
