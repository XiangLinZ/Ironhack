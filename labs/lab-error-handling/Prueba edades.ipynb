{
 "cells": [
  {
   "cell_type": "code",
   "execution_count": 6,
   "id": "3a4e8458",
   "metadata": {},
   "outputs": [
    {
     "name": "stdout",
     "output_type": "stream",
     "text": [
      "{'Juan': 17, 'Rodrigo': 16, 'Elena': 14, 'Javier': 17}\n"
     ]
    }
   ],
   "source": [
    "personas = {\"Pepe\":19,\"Juan\":17,\"Ana\":20,\"Rodrigo\":16,\"Elena\":14,\"Jose\":24,\"Javier\":17}\n",
    "menores = {}\n",
    "for nombre, edad in personas.items():\n",
    "    if edad < 18:\n",
    "        menores[nombre] = edad\n",
    "        \n",
    "print (menores)"
   ]
  }
 ],
 "metadata": {
  "kernelspec": {
   "display_name": "Python 3 (ipykernel)",
   "language": "python",
   "name": "python3"
  },
  "language_info": {
   "codemirror_mode": {
    "name": "ipython",
    "version": 3
   },
   "file_extension": ".py",
   "mimetype": "text/x-python",
   "name": "python",
   "nbconvert_exporter": "python",
   "pygments_lexer": "ipython3",
   "version": "3.9.13"
  }
 },
 "nbformat": 4,
 "nbformat_minor": 5
}
