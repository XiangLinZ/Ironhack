{
 "cells": [
  {
   "cell_type": "code",
   "execution_count": 16,
   "id": "1dc802ed",
   "metadata": {},
   "outputs": [],
   "source": [
    "def escape():\n",
    "    well_height = 125\n",
    "    daily_climb = [30, 21, 33, 77, 44, 45, 23, 45, 12, 34, 55]\n",
    "    nightly_fall = 20\n",
    "    total_distance = 0\n",
    "    total_days = 0\n",
    "    is_morning = True\n",
    "\n",
    "    while (total_distance < well_height):\n",
    "        for daily_climb_distance in daily_climb:\n",
    "            \n",
    "            if (is_morning):\n",
    "                total_distance += daily_climb_distance\n",
    "                is_morning = False\n",
    "             \n",
    "            else:\n",
    "                total_distance -= nightly_fall\n",
    "                is_morning = True\n",
    "                total_days += 1\n",
    "        return total_days"
   ]
  },
  {
   "cell_type": "code",
   "execution_count": 17,
   "id": "398ed8fb",
   "metadata": {},
   "outputs": [
    {
     "data": {
      "text/plain": [
       "5"
      ]
     },
     "execution_count": 17,
     "metadata": {},
     "output_type": "execute_result"
    }
   ],
   "source": [
    "escape()"
   ]
  },
  {
   "cell_type": "code",
   "execution_count": 32,
   "id": "fdaeb215",
   "metadata": {},
   "outputs": [],
   "source": [
    "import statistics as stats\n",
    "import numpy as np"
   ]
  },
  {
   "cell_type": "code",
   "execution_count": 55,
   "id": "f7d7467c",
   "metadata": {},
   "outputs": [],
   "source": [
    "def max_displacement():\n",
    "    daily_climb = [30, 21, 33, 77, 44, 45, 23, 45, 12, 34, 55]\n",
    "    daily_climb_escape = []\n",
    "    for item in range(0,5):\n",
    "      daily_climb_escape.append(daily_climb[item])\n",
    "    daily_climb_escape.sort()\n",
    "    max_displ = (daily_climb_escape[-1])\n",
    "    return max_displ"
   ]
  },
  {
   "cell_type": "code",
   "execution_count": 57,
   "id": "2734b4b5",
   "metadata": {},
   "outputs": [
    {
     "name": "stdout",
     "output_type": "stream",
     "text": [
      "[21, 30, 33, 44, 77]\n"
     ]
    }
   ],
   "source": [
    "max_displacement()\n",
    "    "
   ]
  },
  {
   "cell_type": "code",
   "execution_count": 45,
   "id": "20c51773",
   "metadata": {},
   "outputs": [],
   "source": [
    "def min_displacement():\n",
    "    daily_climb = [30, 21, 33, 77, 44, 45, 23, 45, 12, 34, 55]\n",
    "    daily_climb_escape = []\n",
    "    for item in range(0,5):\n",
    "      daily_climb_escape.append(daily_climb[item])\n",
    "    daily_climb_escape.sort()\n",
    "    min_displ = (daily_climb_escape[0])\n",
    "    return min_displ"
   ]
  },
  {
   "cell_type": "code",
   "execution_count": 46,
   "id": "6bf94f45",
   "metadata": {},
   "outputs": [
    {
     "data": {
      "text/plain": [
       "21"
      ]
     },
     "execution_count": 46,
     "metadata": {},
     "output_type": "execute_result"
    }
   ],
   "source": [
    "min_displacement()"
   ]
  },
  {
   "cell_type": "code",
   "execution_count": 47,
   "id": "fb89bd28",
   "metadata": {},
   "outputs": [],
   "source": [
    "daily_climb = [30, 21, 33, 77, 44, 45, 23, 45, 12, 34, 55]\n",
    "daily_climb_escape = []\n",
    "for item in range(0,5):\n",
    "    daily_climb_escape.append(daily_climb[item])\n",
    "\n",
    "def max_displacement():\n",
    "    daily_climb_escape.sort()\n",
    "    max_displ = (daily_climb_escape[-1])\n",
    "    return max_displ\n",
    "\n",
    "# And its minimum displacement in one day?\n",
    "def min_displacement():\n",
    "    daily_climb_escape.sort()\n",
    "    min_displ = (daily_climb_escape[0])\n",
    "    return min_displ"
   ]
  },
  {
   "cell_type": "code",
   "execution_count": 48,
   "id": "8ca99cb7",
   "metadata": {},
   "outputs": [
    {
     "data": {
      "text/plain": [
       "77"
      ]
     },
     "execution_count": 48,
     "metadata": {},
     "output_type": "execute_result"
    }
   ],
   "source": [
    "max_displacement()"
   ]
  },
  {
   "cell_type": "code",
   "execution_count": 49,
   "id": "56d8a486",
   "metadata": {},
   "outputs": [
    {
     "data": {
      "text/plain": [
       "21"
      ]
     },
     "execution_count": 49,
     "metadata": {},
     "output_type": "execute_result"
    }
   ],
   "source": [
    "min_displacement()"
   ]
  },
  {
   "cell_type": "code",
   "execution_count": 53,
   "id": "5ca55514",
   "metadata": {},
   "outputs": [],
   "source": [
    "import statistics as stats\n",
    "def avg_speed():\n",
    "  avg_spb = stats.mean(daily_climb_escape)\n",
    "  avg_sp = round(avg_spb,1)\n",
    "  return avg_sp"
   ]
  },
  {
   "cell_type": "code",
   "execution_count": 59,
   "id": "43b369ec",
   "metadata": {},
   "outputs": [
    {
     "data": {
      "text/plain": [
       "41"
      ]
     },
     "execution_count": 59,
     "metadata": {},
     "output_type": "execute_result"
    }
   ],
   "source": [
    "avg_speed()"
   ]
  },
  {
   "cell_type": "code",
   "execution_count": 63,
   "id": "ddd69490",
   "metadata": {},
   "outputs": [],
   "source": [
    "import numpy as np\n",
    "def standard_deviation():\n",
    "    std_dev_brute = np.std(daily_climb_escape)\n",
    "    std_dev = round(std_dev_brute,2)\n",
    "    return std_dev  "
   ]
  },
  {
   "cell_type": "code",
   "execution_count": 64,
   "id": "2189100c",
   "metadata": {},
   "outputs": [
    {
     "data": {
      "text/plain": [
       "19.44"
      ]
     },
     "execution_count": 64,
     "metadata": {},
     "output_type": "execute_result"
    }
   ],
   "source": [
    "standard_deviation()"
   ]
  },
  {
   "cell_type": "code",
   "execution_count": null,
   "id": "c28a9204",
   "metadata": {},
   "outputs": [],
   "source": []
  }
 ],
 "metadata": {
  "kernelspec": {
   "display_name": "Python 3 (ipykernel)",
   "language": "python",
   "name": "python3"
  },
  "language_info": {
   "codemirror_mode": {
    "name": "ipython",
    "version": 3
   },
   "file_extension": ".py",
   "mimetype": "text/x-python",
   "name": "python",
   "nbconvert_exporter": "python",
   "pygments_lexer": "ipython3",
   "version": "3.9.12"
  }
 },
 "nbformat": 4,
 "nbformat_minor": 5
}
